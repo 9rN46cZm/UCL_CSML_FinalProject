{
 "cells": [
  {
   "cell_type": "code",
   "execution_count": 1,
   "metadata": {},
   "outputs": [],
   "source": [
    "from datasets import load_dataset, DatasetDict, Dataset\n",
    "import json\n",
    "from transformers import PerceiverTokenizer, PerceiverModel, PerceiverConfig, PerceiverPreTrainedModel, PerceiverForSequenceClassification, TrainingArguments, Trainer, \\\n",
    "    DataCollatorWithPadding\n",
    "import re\n",
    "import os\n",
    "from tqdm import tqdm\n",
    "import torch\n",
    "ROOT_PATH = \"..\"\n",
    "with open(os.path.join(ROOT_PATH, \"ignored_dir/data/contract-nli/train.json\")) as train_json_f:\n",
    "    train_json = json.load(train_json_f)\n",
    "id2label = {0: \"Entailment\", 1: \"Contradiction\", 2: \"NotMnetioned\"}\n",
    "label2id = {\"Entailment\": 0, \"Contradiction\": 1, \"NotMentioned\": 2}\n",
    "\n",
    "def load_dataset_custom(dataset_name):\n",
    "    if dataset_name == \"contract-nli\":\n",
    "        def contract_nli_iterator(data):\n",
    "            documents, labels = data['documents'], data['labels']\n",
    "            for document in documents:\n",
    "                id = document['id']\n",
    "                file_name = document['file_name']\n",
    "                text = document['text']\n",
    "                spans = document['spans']\n",
    "                annotation_sets = document['annotation_sets']\n",
    "                document_type = document['document_type']\n",
    "                url = document['url']\n",
    "                for annotation_id, annotation_content in annotation_sets[0]['annotations'].items():\n",
    "                    hypothesis = labels[annotation_id]['hypothesis']\n",
    "                    choice = annotation_content['choice']\n",
    "                    yield {\n",
    "                        \"id\": id,\n",
    "                        \"file_name\": file_name,\n",
    "                        \"text\": text,\n",
    "                        \"spans\": spans,\n",
    "                        \"document_type\": document_type,\n",
    "                        \"url\": url,\n",
    "                        \"hypothesis\": hypothesis,\n",
    "                        \"labels\": label2id[choice],\n",
    "                    }            \n",
    "        base_filepath = os.path.join(ROOT_PATH, \"ignored_dir/data/contract-nli\")\n",
    "        train_filepath = os.path.join(base_filepath, \"train.json\")\n",
    "        validation_filepath = os.path.join(base_filepath, \"dev.json\")\n",
    "        test_filepath = os.path.join(base_filepath, \"test.json\")\n",
    "        with open(train_filepath) as f:\n",
    "            train_data = json.load(f)\n",
    "        with open(validation_filepath) as f:\n",
    "            validation_data = json.load(f)\n",
    "        with open(test_filepath) as f:\n",
    "            test_data = json.load(f)\n",
    "        data = {\n",
    "            \"train\": Dataset.from_generator(lambda: contract_nli_iterator(train_data)),\n",
    "            \"validation\": Dataset.from_generator(lambda: contract_nli_iterator(validation_data)),\n",
    "            \"test\": Dataset.from_generator(lambda: contract_nli_iterator(test_data)),\n",
    "        }\n",
    "        return DatasetDict(data)\n",
    "    return None\n",
    "\n",
    "contract_nli_dataset = load_dataset_custom(\"contract-nli\")"
   ]
  },
  {
   "cell_type": "code",
   "execution_count": 2,
   "metadata": {},
   "outputs": [
    {
     "name": "stderr",
     "output_type": "stream",
     "text": [
      "/home/yan_xu_uk_qbe_com/scc_yan/virtual-env/lib/python3.10/site-packages/transformers/tokenization_utils_base.py:1601: FutureWarning: `clean_up_tokenization_spaces` was not set. It will be set to `True` by default. This behavior will be depracted in transformers v4.45, and will be then set to `False` by default. For more details check this issue: https://github.com/huggingface/transformers/issues/31884\n",
      "  warnings.warn(\n"
     ]
    }
   ],
   "source": [
    "from datasets import load_dataset, DatasetDict, Dataset\n",
    "import json\n",
    "from transformers import PerceiverTokenizer, PerceiverModel, PerceiverConfig, PerceiverPreTrainedModel, PerceiverForSequenceClassification, TrainingArguments, Trainer, \\\n",
    "    DataCollatorWithPadding, DataCollatorForLanguageModeling, PerceiverForMaskedLM\n",
    "import re\n",
    "import os\n",
    "from tqdm import tqdm\n",
    "import torch\n",
    "\n",
    "model_max_length = 60000 # set a big number here for now\n",
    "perceiver_tokenizer = PerceiverTokenizer(model_max_length=model_max_length)\n",
    "def process_contract_nli_dataset(element):\n",
    "    return perceiver_tokenizer(element['text'], element['hypothesis'], truncation=True, padding=\"max_length\")\n",
    "\n",
    "contract_nli_dataset_processed = contract_nli_dataset.map(process_contract_nli_dataset, batched=True, remove_columns=contract_nli_dataset[\"train\"].column_names,\n",
    ")"
   ]
  },
  {
   "cell_type": "code",
   "execution_count": 3,
   "metadata": {},
   "outputs": [
    {
     "data": {
      "text/plain": [
       "DatasetDict({\n",
       "    train: Dataset({\n",
       "        features: ['input_ids', 'attention_mask'],\n",
       "        num_rows: 7191\n",
       "    })\n",
       "    validation: Dataset({\n",
       "        features: ['input_ids', 'attention_mask'],\n",
       "        num_rows: 1037\n",
       "    })\n",
       "    test: Dataset({\n",
       "        features: ['input_ids', 'attention_mask'],\n",
       "        num_rows: 2091\n",
       "    })\n",
       "})"
      ]
     },
     "execution_count": 3,
     "metadata": {},
     "output_type": "execute_result"
    }
   ],
   "source": [
    "contract_nli_dataset_processed"
   ]
  },
  {
   "cell_type": "code",
   "execution_count": 4,
   "metadata": {},
   "outputs": [],
   "source": [
    "perceiver_config = PerceiverConfig.from_pretrained(\"deepmind/language-perceiver\", model_max_length=model_max_length, num_labels=3, max_position_embeddings=model_max_length)\n",
    "ckpt_path = \"../ignored_dir/training_outputs/perceiver_mlm/run_62/checkpoint-2250\"\n",
    "perceiver_model = PerceiverForMaskedLM.from_pretrained(\"deepmind/language-perceiver\" if ckpt_path is None else ckpt_path, config=perceiver_config, ignore_mismatched_sizes=True)\n",
    "perceiver_data_collator = DataCollatorForLanguageModeling(tokenizer=perceiver_tokenizer, mlm_probability=0.15)"
   ]
  },
  {
   "cell_type": "code",
   "execution_count": 5,
   "metadata": {},
   "outputs": [
    {
     "name": "stdout",
     "output_type": "stream",
     "text": [
      "saving to ../ignored_dir/training_outputs/perceiver_mlm/run_63\n"
     ]
    },
    {
     "name": "stderr",
     "output_type": "stream",
     "text": [
      "/home/yan_xu_uk_qbe_com/scc_yan/virtual-env/lib/python3.10/site-packages/accelerate/accelerator.py:488: FutureWarning: `torch.cuda.amp.GradScaler(args...)` is deprecated. Please use `torch.amp.GradScaler('cuda', args...)` instead.\n",
      "  self.scaler = torch.cuda.amp.GradScaler(**kwargs)\n"
     ]
    }
   ],
   "source": [
    "ignored_dir_path = os.path.join(ROOT_PATH, \"ignored_dir\")\n",
    "if not os.path.exists(ignored_dir_path):\n",
    "    os.mkdir(ignored_dir_path)\n",
    "training_outputs_path = os.path.join(ignored_dir_path, \"training_outputs\")\n",
    "if not os.path.exists(training_outputs_path):\n",
    "    os.mkdir(training_outputs_path)\n",
    "output_path = os.path.join(training_outputs_path, \"perceiver_mlm\")\n",
    "if not os.path.exists(output_path):\n",
    "    os.mkdir(output_path)\n",
    "output_path_content = os.listdir(output_path)\n",
    "pattern = \"^run_([0-9]+)\"\n",
    "output_path_legal_content = [e for e in output_path_content if re.match(pattern, e)]\n",
    "run_output_path = os.path.join(output_path, f\"run_{len(output_path_legal_content) + 1}\")\n",
    "print(f\"saving to {run_output_path}\")\n",
    "perceiver_training_arguments = TrainingArguments(\n",
    "    run_output_path,\n",
    "    do_train=True,\n",
    "    do_eval=True,\n",
    "    per_device_train_batch_size=2,\n",
    "    per_device_eval_batch_size=2,\n",
    "    # max_steps=1,\n",
    "    num_train_epochs=10,\n",
    "    learning_rate = 1e-3,\n",
    "    lr_scheduler_type='constant',\n",
    "    # weight_decay=0.01,\n",
    "    fp16=True,\n",
    "    #eval_strategy=\"epoch\",\n",
    "    eval_strategy=\"steps\",\n",
    "    eval_steps=200,\n",
    "    save_strategy=\"epoch\",\n",
    "    logging_strategy=\"epoch\",\n",
    "    # load_best_model_at_end=True,\n",
    ")\n",
    "\n",
    "trainer = Trainer(\n",
    "    model=perceiver_model,\n",
    "    args=perceiver_training_arguments,\n",
    "    train_dataset=contract_nli_dataset_processed[\"train\"],\n",
    "    eval_dataset=contract_nli_dataset_processed[\"test\"], # .select(range(2)),\n",
    "    data_collator=perceiver_data_collator,\n",
    ")"
   ]
  },
  {
   "cell_type": "code",
   "execution_count": 6,
   "metadata": {},
   "outputs": [
    {
     "name": "stdout",
     "output_type": "stream",
     "text": [
      "Parameter containing:\n",
      "tensor([[-0.0471, -0.0092, -0.0655,  ...,  0.1025,  0.0103, -0.0074],\n",
      "        [-0.0715, -0.0841, -0.0243,  ...,  0.0676,  0.0285, -0.0633],\n",
      "        [-0.0147, -0.0862, -0.0878,  ...,  0.1010, -0.0450, -0.0543],\n",
      "        ...,\n",
      "        [-0.0863, -0.1229, -0.1593,  ...,  0.0266,  0.0062, -0.0736],\n",
      "        [-0.0249, -0.0806, -0.1424,  ..., -0.0102,  0.0378, -0.0804],\n",
      "        [-0.0067, -0.0204, -0.0806,  ...,  0.0904, -0.0649,  0.0004]],\n",
      "       device='cuda:0', requires_grad=True)\n"
     ]
    }
   ],
   "source": [
    "print(perceiver_model.perceiver.input_preprocessor.embeddings.weight)"
   ]
  },
  {
   "cell_type": "code",
   "execution_count": 7,
   "metadata": {},
   "outputs": [
    {
     "name": "stderr",
     "output_type": "stream",
     "text": [
      "/home/yan_xu_uk_qbe_com/scc_yan/virtual-env/lib/python3.10/site-packages/torch/nn/parallel/parallel_apply.py:79: FutureWarning: `torch.cuda.amp.autocast(args...)` is deprecated. Please use `torch.amp.autocast('cuda', args...)` instead.\n",
      "  with torch.cuda.device(device), torch.cuda.stream(stream), autocast(enabled=autocast_enabled):\n",
      "/home/yan_xu_uk_qbe_com/scc_yan/virtual-env/lib/python3.10/site-packages/torch/nn/parallel/_functions.py:68: UserWarning: Was asked to gather along dimension 0, but all input tensors were scalars; will instead unsqueeze and return a vector.\n",
      "  warnings.warn('Was asked to gather along dimension 0, but all '\n"
     ]
    },
    {
     "data": {
      "text/html": [
       "\n",
       "    <div>\n",
       "      \n",
       "      <progress value='12' max='131' style='width:300px; height:20px; vertical-align: middle;'></progress>\n",
       "      [ 12/131 00:19 < 03:31, 0.56 it/s]\n",
       "    </div>\n",
       "    "
      ],
      "text/plain": [
       "<IPython.core.display.HTML object>"
      ]
     },
     "metadata": {},
     "output_type": "display_data"
    }
   ],
   "source": [
    "trainer.evaluate()"
   ]
  },
  {
   "cell_type": "code",
   "execution_count": null,
   "metadata": {},
   "outputs": [
    {
     "name": "stderr",
     "output_type": "stream",
     "text": [
      "Could not estimate the number of tokens of the input, floating-point operations will not be computed\n"
     ]
    },
    {
     "data": {
      "text/html": [
       "\n",
       "    <div>\n",
       "      \n",
       "      <progress value='2250' max='2250' style='width:300px; height:20px; vertical-align: middle;'></progress>\n",
       "      [2250/2250 2:18:47, Epoch 5/5]\n",
       "    </div>\n",
       "    <table border=\"1\" class=\"dataframe\">\n",
       "  <thead>\n",
       " <tr style=\"text-align: left;\">\n",
       "      <th>Step</th>\n",
       "      <th>Training Loss</th>\n",
       "      <th>Validation Loss</th>\n",
       "    </tr>\n",
       "  </thead>\n",
       "  <tbody>\n",
       "    <tr>\n",
       "      <td>200</td>\n",
       "      <td>No log</td>\n",
       "      <td>3.207165</td>\n",
       "    </tr>\n",
       "    <tr>\n",
       "      <td>400</td>\n",
       "      <td>No log</td>\n",
       "      <td>3.211768</td>\n",
       "    </tr>\n",
       "    <tr>\n",
       "      <td>600</td>\n",
       "      <td>3.085500</td>\n",
       "      <td>3.224347</td>\n",
       "    </tr>\n",
       "    <tr>\n",
       "      <td>800</td>\n",
       "      <td>3.085500</td>\n",
       "      <td>3.246936</td>\n",
       "    </tr>\n",
       "    <tr>\n",
       "      <td>1000</td>\n",
       "      <td>3.063000</td>\n",
       "      <td>3.228207</td>\n",
       "    </tr>\n",
       "    <tr>\n",
       "      <td>1200</td>\n",
       "      <td>3.063000</td>\n",
       "      <td>3.245353</td>\n",
       "    </tr>\n",
       "    <tr>\n",
       "      <td>1400</td>\n",
       "      <td>3.040000</td>\n",
       "      <td>3.254348</td>\n",
       "    </tr>\n",
       "    <tr>\n",
       "      <td>1600</td>\n",
       "      <td>3.040000</td>\n",
       "      <td>3.267751</td>\n",
       "    </tr>\n",
       "    <tr>\n",
       "      <td>1800</td>\n",
       "      <td>3.040000</td>\n",
       "      <td>3.291348</td>\n",
       "    </tr>\n",
       "    <tr>\n",
       "      <td>2000</td>\n",
       "      <td>3.012800</td>\n",
       "      <td>3.289706</td>\n",
       "    </tr>\n",
       "    <tr>\n",
       "      <td>2200</td>\n",
       "      <td>3.012800</td>\n",
       "      <td>3.311639</td>\n",
       "    </tr>\n",
       "  </tbody>\n",
       "</table><p>"
      ],
      "text/plain": [
       "<IPython.core.display.HTML object>"
      ]
     },
     "metadata": {},
     "output_type": "display_data"
    },
    {
     "name": "stderr",
     "output_type": "stream",
     "text": [
      "/home/yan_xu_uk_qbe_com/scc_yan/virtual-env/lib/python3.10/site-packages/torch/nn/parallel/parallel_apply.py:79: FutureWarning: `torch.cuda.amp.autocast(args...)` is deprecated. Please use `torch.amp.autocast('cuda', args...)` instead.\n",
      "  with torch.cuda.device(device), torch.cuda.stream(stream), autocast(enabled=autocast_enabled):\n",
      "/home/yan_xu_uk_qbe_com/scc_yan/virtual-env/lib/python3.10/site-packages/torch/nn/parallel/_functions.py:68: UserWarning: Was asked to gather along dimension 0, but all input tensors were scalars; will instead unsqueeze and return a vector.\n",
      "  warnings.warn('Was asked to gather along dimension 0, but all '\n",
      "/home/yan_xu_uk_qbe_com/scc_yan/virtual-env/lib/python3.10/site-packages/torch/nn/parallel/parallel_apply.py:79: FutureWarning: `torch.cuda.amp.autocast(args...)` is deprecated. Please use `torch.amp.autocast('cuda', args...)` instead.\n",
      "  with torch.cuda.device(device), torch.cuda.stream(stream), autocast(enabled=autocast_enabled):\n",
      "/home/yan_xu_uk_qbe_com/scc_yan/virtual-env/lib/python3.10/site-packages/torch/nn/parallel/_functions.py:68: UserWarning: Was asked to gather along dimension 0, but all input tensors were scalars; will instead unsqueeze and return a vector.\n",
      "  warnings.warn('Was asked to gather along dimension 0, but all '\n",
      "/home/yan_xu_uk_qbe_com/scc_yan/virtual-env/lib/python3.10/site-packages/torch/nn/parallel/parallel_apply.py:79: FutureWarning: `torch.cuda.amp.autocast(args...)` is deprecated. Please use `torch.amp.autocast('cuda', args...)` instead.\n",
      "  with torch.cuda.device(device), torch.cuda.stream(stream), autocast(enabled=autocast_enabled):\n",
      "/home/yan_xu_uk_qbe_com/scc_yan/virtual-env/lib/python3.10/site-packages/torch/nn/parallel/_functions.py:68: UserWarning: Was asked to gather along dimension 0, but all input tensors were scalars; will instead unsqueeze and return a vector.\n",
      "  warnings.warn('Was asked to gather along dimension 0, but all '\n",
      "/home/yan_xu_uk_qbe_com/scc_yan/virtual-env/lib/python3.10/site-packages/torch/nn/parallel/parallel_apply.py:79: FutureWarning: `torch.cuda.amp.autocast(args...)` is deprecated. Please use `torch.amp.autocast('cuda', args...)` instead.\n",
      "  with torch.cuda.device(device), torch.cuda.stream(stream), autocast(enabled=autocast_enabled):\n",
      "/home/yan_xu_uk_qbe_com/scc_yan/virtual-env/lib/python3.10/site-packages/torch/nn/parallel/_functions.py:68: UserWarning: Was asked to gather along dimension 0, but all input tensors were scalars; will instead unsqueeze and return a vector.\n",
      "  warnings.warn('Was asked to gather along dimension 0, but all '\n"
     ]
    },
    {
     "data": {
      "text/plain": [
       "TrainOutput(global_step=2250, training_loss=3.0370850694444442, metrics={'train_runtime': 8331.6571, 'train_samples_per_second': 4.315, 'train_steps_per_second': 0.27, 'total_flos': 0.0, 'train_loss': 3.0370850694444442, 'epoch': 5.0})"
      ]
     },
     "execution_count": 8,
     "metadata": {},
     "output_type": "execute_result"
    }
   ],
   "source": [
    "trainer.train() # resume_from_checkpoint=ckpt_path)"
   ]
  },
  {
   "cell_type": "code",
   "execution_count": null,
   "metadata": {},
   "outputs": [
    {
     "name": "stderr",
     "output_type": "stream",
     "text": [
      "/home/yan_xu_uk_qbe_com/scc_yan/virtual-env/lib/python3.10/site-packages/torch/nn/parallel/parallel_apply.py:79: FutureWarning: `torch.cuda.amp.autocast(args...)` is deprecated. Please use `torch.amp.autocast('cuda', args...)` instead.\n",
      "  with torch.cuda.device(device), torch.cuda.stream(stream), autocast(enabled=autocast_enabled):\n",
      "/home/yan_xu_uk_qbe_com/scc_yan/virtual-env/lib/python3.10/site-packages/torch/nn/parallel/_functions.py:68: UserWarning: Was asked to gather along dimension 0, but all input tensors were scalars; will instead unsqueeze and return a vector.\n",
      "  warnings.warn('Was asked to gather along dimension 0, but all '\n"
     ]
    },
    {
     "data": {
      "text/html": [
       "\n",
       "    <div>\n",
       "      \n",
       "      <progress value='131' max='131' style='width:300px; height:20px; vertical-align: middle;'></progress>\n",
       "      [131/131 03:53]\n",
       "    </div>\n",
       "    "
      ],
      "text/plain": [
       "<IPython.core.display.HTML object>"
      ]
     },
     "metadata": {},
     "output_type": "display_data"
    },
    {
     "data": {
      "text/plain": [
       "{'eval_loss': 3.3114027976989746,\n",
       " 'eval_runtime': 236.2528,\n",
       " 'eval_samples_per_second': 8.851,\n",
       " 'eval_steps_per_second': 0.554,\n",
       " 'epoch': 5.0}"
      ]
     },
     "execution_count": 9,
     "metadata": {},
     "output_type": "execute_result"
    }
   ],
   "source": [
    "trainer.evaluate()"
   ]
  },
  {
   "cell_type": "code",
   "execution_count": null,
   "metadata": {},
   "outputs": [
    {
     "data": {
      "text/plain": [
       "Parameter containing:\n",
       "tensor([[ 7.0946e-02,  8.3061e-04,  2.4824e-03,  ..., -5.0448e-02,\n",
       "          8.4609e-02, -3.0488e-02],\n",
       "        [-1.2955e-03, -6.7281e-03,  9.8836e-03,  ..., -1.9933e-02,\n",
       "         -3.4708e-02,  2.1611e-02],\n",
       "        [-4.0862e-03, -1.7026e-03, -9.1290e-05,  ...,  3.0454e-03,\n",
       "         -1.1551e-02,  4.2732e-02],\n",
       "        ...,\n",
       "        [-4.2417e-02, -5.5580e-03,  6.1901e-03,  ...,  2.5098e-02,\n",
       "          8.8983e-03, -3.5883e-02],\n",
       "        [ 3.1712e-02, -4.5060e-03,  8.5196e-03,  ..., -3.2175e-02,\n",
       "          4.3289e-02, -1.6717e-04],\n",
       "        [ 5.0277e-03, -6.8861e-04, -6.0819e-03,  ..., -2.4101e-02,\n",
       "          1.1415e-01,  2.0489e-02]], device='cuda:0', requires_grad=True)"
      ]
     },
     "execution_count": 10,
     "metadata": {},
     "output_type": "execute_result"
    }
   ],
   "source": [
    "perceiver_model.perceiver.encoder.cross_attention.attention.self.query.weight"
   ]
  },
  {
   "cell_type": "code",
   "execution_count": 2,
   "metadata": {},
   "outputs": [
    {
     "name": "stdout",
     "output_type": "stream",
     "text": [
      "reading from ../ignored_dir/training_outputs/perceiver_mlm/run_59/checkpoint-1350/trainer_state.json\n"
     ]
    }
   ],
   "source": [
    "## Graphics for run_59\n",
    "\n",
    "import json\n",
    "import os\n",
    "\n",
    "run_dir = \"../ignored_dir/training_outputs/perceiver_mlm/run_59\"\n",
    "latest_ckpt = max(os.listdir(run_dir), key=lambda x: int(x.split('-')[-1]))\n",
    "ckpt_path = os.path.join(run_dir, latest_ckpt)\n",
    "json_path = os.path.join(ckpt_path, \"trainer_state.json\")\n",
    "print(f\"reading from {json_path}\")\n",
    "with open(json_path) as f:\n",
    "    json_f = json.load(f)\n",
    "log_history = json_f['log_history']\n",
    "train_loss_record, eval_loss_record, lr_record = dict(), dict(), dict()\n",
    "for h in log_history:\n",
    "    epoch = h['epoch']\n",
    "    if \"loss\" in h:\n",
    "        train_loss = h['loss']\n",
    "        lr = h['learning_rate']\n",
    "        train_loss_record[epoch] = train_loss\n",
    "        lr_record[epoch] = lr\n",
    "    else:\n",
    "        eval_loss = h['eval_loss']\n",
    "        eval_loss_record[epoch] = eval_loss"
   ]
  },
  {
   "cell_type": "code",
   "execution_count": 4,
   "metadata": {},
   "outputs": [
    {
     "data": {
      "image/png": "[encoded data removed]",
      "text/plain": [
       "<Figure size 640x480 with 2 Axes>"
      ]
     },
     "metadata": {},
     "output_type": "display_data"
    }
   ],
   "source": [
    "import matplotlib.lines as mlines\n",
    "import matplotlib.pyplot as plt\n",
    "\n",
    "fig, ax1 = plt.subplots()\n",
    "\n",
    "train_epoches = sorted(train_loss_record.keys())\n",
    "train_values = [train_loss_record[k] for k in train_epoches]\n",
    "ax1.plot(train_epoches, train_values, label=\"training loss\")\n",
    "eval_epoches = sorted(eval_loss_record.keys())\n",
    "eval_values = [eval_loss_record[k] for k in eval_epoches]\n",
    "ax1.plot(eval_epoches, eval_values, label=\"eval loss\")\n",
    "ax1.set_xlabel('epoch')\n",
    "# ax1.legend()\n",
    "h1, l1 = ax1.get_legend_handles_labels()\n",
    "hc1 = [e.get_color() for e in h1]\n",
    "\n",
    "ax2 = ax1.twinx()  # instantiate a second Axes that shares the same x-axis\n",
    "lr_epoches = sorted(lr_record.keys())\n",
    "lr_values = [lr_record[k] for k in lr_epoches]\n",
    "ax2.set_ylabel('learning rate')\n",
    "ax2.plot(lr_epoches, lr_values, label=\"learning rate\", color='red')\n",
    "# ax2.legend()\n",
    "h2, l2 = ax2.get_legend_handles_labels()\n",
    "hc2 = [e.get_color() for e in h2]\n",
    "\n",
    "tmp, _ = ax2.get_legend_handles_labels()\n",
    "tmp = tmp[0]\n",
    "\n",
    "colors = hc1 + hc2\n",
    "labels = l1 + l2\n",
    "handles = [mlines.Line2D([], []) for _ in range(len(colors))]\n",
    "for i, h in enumerate(handles):\n",
    "    h.update_from(tmp)\n",
    "    h.set_label(labels[i])\n",
    "    h.set_color(colors[i])\n",
    "\n",
    "plt.legend(handles, labels) # , bbox_to_anchor=(2.2, 0.5)) # , colors=['blue', 'orange', 'green', 'red'])\n",
    "\n",
    "# plt.show()\n",
    "plt.savefig(\"perceiver_mlm_contract_nli_2e_5_lr.png\", bbox_inches = 'tight')"
   ]
  },
  {
   "cell_type": "code",
   "execution_count": null,
   "metadata": {},
   "outputs": [
    {
     "name": "stdout",
     "output_type": "stream",
     "text": [
      "reading from ../ignored_dir/training_outputs/perceiver_mlm/run_61/checkpoint-2250/trainer_state.json\n"
     ]
    }
   ],
   "source": [
    "## Graphics for run_61\n",
    "import os\n",
    "import json\n",
    "\n",
    "run_dir = \"../ignored_dir/training_outputs/perceiver_mlm/run_61\"\n",
    "latest_ckpt = max(os.listdir(run_dir), key=lambda x: int(x.split('-')[-1]))\n",
    "latest_ckpt_path = os.path.join(run_dir, latest_ckpt)\n",
    "json_path = os.path.join(latest_ckpt_path, \"trainer_state.json\")\n",
    "print(f\"reading from {json_path}\")\n",
    "with open(json_path) as f:\n",
    "    json_f = json.load(f)\n",
    "log_history = json_f['log_history']\n",
    "train_loss_record, eval_loss_record, lr_record = dict(), dict(), dict()\n",
    "for h in log_history:\n",
    "    epoch = h['epoch']\n",
    "    if \"loss\" in h:\n",
    "        train_loss = h['loss']\n",
    "        lr = h['learning_rate']\n",
    "        train_loss_record[epoch] = train_loss\n",
    "        lr_record[epoch] = lr\n",
    "    else:\n",
    "        eval_loss = h['eval_loss']\n",
    "        eval_loss_record[epoch] = eval_loss"
   ]
  },
  {
   "cell_type": "code",
   "execution_count": null,
   "metadata": {},
   "outputs": [
    {
     "data": {
      "image/png": "[encoded data removed]",
      "text/plain": [
       "<Figure size 640x480 with 2 Axes>"
      ]
     },
     "metadata": {},
     "output_type": "display_data"
    }
   ],
   "source": [
    "import matplotlib.lines as mlines\n",
    "import matplotlib.pyplot as plt\n",
    "\n",
    "fig, ax1 = plt.subplots()\n",
    "\n",
    "train_epoches = sorted(train_loss_record.keys())\n",
    "train_values = [train_loss_record[k] for k in train_epoches]\n",
    "ax1.plot(train_epoches, train_values, label=\"training loss\")\n",
    "eval_epoches = sorted(eval_loss_record.keys())\n",
    "eval_values = [eval_loss_record[k] for k in eval_epoches]\n",
    "ax1.plot(eval_epoches, eval_values, label=\"eval loss\")\n",
    "ax1.set_xlabel('epoch')\n",
    "ax1.legend()\n",
    "h1, l1 = ax1.get_legend_handles_labels()\n",
    "hc1 = [e.get_color() for e in h1]\n",
    "\n",
    "ax2 = ax1.twinx()  # instantiate a second Axes that shares the same x-axis\n",
    "lr_epoches = sorted(lr_record.keys())\n",
    "lr_values = [lr_record[k] for k in lr_epoches]\n",
    "ax2.set_ylabel('learning rate')\n",
    "ax2.plot(lr_epoches, lr_values, label=\"learning rate\", color='red')\n",
    "ax2.legend()\n",
    "h2, l2 = ax2.get_legend_handles_labels()\n",
    "hc2 = [e.get_color() for e in h2]\n",
    "\n",
    "tmp, _ = ax2.get_legend_handles_labels()\n",
    "tmp = tmp[0]\n",
    "\n",
    "colors = hc1 + hc2\n",
    "labels = l1 + l2\n",
    "handles = [mlines.Line2D([], []) for _ in range(len(colors))]\n",
    "for i, h in enumerate(handles):\n",
    "    h.update_from(tmp)\n",
    "    h.set_label(labels[i])\n",
    "    h.set_color(colors[i])\n",
    "\n",
    "plt.legend(handles, labels) # , bbox_to_anchor=(2.2, 0.5)) # , colors=['blue', 'orange', 'green', 'red'])\n",
    "\n",
    "# plt.show()\n",
    "plt.savefig(\"perceiver_mlm_contract_nli_1e_4_lr.png\", bbox_inches = 'tight')"
   ]
  }
 ],
 "metadata": {
  "kernelspec": {
   "display_name": "virtual-env",
   "language": "python",
   "name": "python3"
  },
  "language_info": {
   "codemirror_mode": {
    "name": "ipython",
    "version": 3
   },
   "file_extension": ".py",
   "mimetype": "text/x-python",
   "name": "python",
   "nbconvert_exporter": "python",
   "pygments_lexer": "ipython3",
   "version": "3.10.14"
  }
 },
 "nbformat": 4,
 "nbformat_minor": 2
}
