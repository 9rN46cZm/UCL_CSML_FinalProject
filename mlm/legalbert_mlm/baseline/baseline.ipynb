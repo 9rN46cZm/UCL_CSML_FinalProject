{
 "cells": [
  {
   "cell_type": "code",
   "execution_count": 1,
   "metadata": {},
   "outputs": [],
   "source": [
    "### This script tries to establish baseline for longformer\n",
    "### in this folder, we will use LegalBERT to run a MLM on \n",
    "### contractnli and see what score it gets\n",
    "### what metric dees LegalBERT paper use? the training loss, so default huggingface loss should be used"
   ]
  },
  {
   "cell_type": "code",
   "execution_count": 2,
   "metadata": {},
   "outputs": [],
   "source": [
    "### get the contractnli dataset\n",
    "\n",
    "### load contractnli\n",
    "\n",
    "from datasets import load_dataset, DatasetDict, Dataset\n",
    "import json\n",
    "from transformers import PerceiverTokenizer, PerceiverModel, PerceiverConfig, PerceiverPreTrainedModel, PerceiverForSequenceClassification, TrainingArguments, Trainer, \\\n",
    "    DataCollatorWithPadding, AutoTokenizer, AutoModelForMaskedLM, DataCollatorForLanguageModeling\n",
    "\n",
    "\n",
    "import re\n",
    "import os\n",
    "from tqdm import tqdm\n",
    "import torch\n",
    "\n",
    "ROOT_PATH = \"/home/yan_xu_uk_qbe_com/scc_yan/\"\n",
    "\n",
    "with open(os.path.join(ROOT_PATH, \"ignored_dir/data/contract-nli/train.json\")) as train_json_f:\n",
    "    train_json = json.load(train_json_f)\n",
    "\n",
    "id2label = {0: \"Entailment\", 1: \"Contradiction\", 2: \"NotMnetioned\"}\n",
    "label2id = {\"Entailment\": 0, \"Contradiction\": 1, \"NotMentioned\": 2}\n",
    "\n",
    "def load_dataset_custom(dataset_name):\n",
    "    if dataset_name == \"contract-nli\":\n",
    "        def contract_nli_iterator(data):\n",
    "            documents, labels = data['documents'], data['labels']\n",
    "            for document in documents:\n",
    "                id = document['id']\n",
    "                file_name = document['file_name']\n",
    "                text = document['text']\n",
    "                spans = document['spans']\n",
    "                annotation_sets = document['annotation_sets']\n",
    "                document_type = document['document_type']\n",
    "                url = document['url']\n",
    "                for annotation_id, annotation_content in annotation_sets[0]['annotations'].items():\n",
    "                    hypothesis = labels[annotation_id]['hypothesis']\n",
    "                    choice = annotation_content['choice']\n",
    "                    yield {\n",
    "                        \"id\": id,\n",
    "                        \"file_name\": file_name,\n",
    "                        \"text\": text,\n",
    "                        \"spans\": spans,\n",
    "                        \"document_type\": document_type,\n",
    "                        \"url\": url,\n",
    "                        \"hypothesis\": hypothesis,\n",
    "                        \"labels\": label2id[choice],\n",
    "                    }            \n",
    "        base_filepath = os.path.join(ROOT_PATH, \"ignored_dir/data/contract-nli\")\n",
    "        train_filepath = os.path.join(base_filepath, \"train.json\")\n",
    "        validation_filepath = os.path.join(base_filepath, \"dev.json\")\n",
    "        test_filepath = os.path.join(base_filepath, \"test.json\")\n",
    "        with open(train_filepath) as f:\n",
    "            train_data = json.load(f)\n",
    "        with open(validation_filepath) as f:\n",
    "            validation_data = json.load(f)\n",
    "        with open(test_filepath) as f:\n",
    "            test_data = json.load(f)\n",
    "        data = {\n",
    "            \"train\": Dataset.from_generator(lambda: contract_nli_iterator(train_data)),\n",
    "            \"validation\": Dataset.from_generator(lambda: contract_nli_iterator(validation_data)),\n",
    "            \"test\": Dataset.from_generator(lambda: contract_nli_iterator(test_data)),\n",
    "        }\n",
    "        return DatasetDict(data)\n",
    "    return None\n",
    "\n",
    "contractnli_dataset = load_dataset_custom(\"contract-nli\")"
   ]
  },
  {
   "cell_type": "code",
   "execution_count": 3,
   "metadata": {},
   "outputs": [
    {
     "name": "stderr",
     "output_type": "stream",
     "text": [
      "/home/yan_xu_uk_qbe_com/scc_yan/virtual-env/lib/python3.10/site-packages/transformers/tokenization_utils_base.py:1601: FutureWarning: `clean_up_tokenization_spaces` was not set. It will be set to `True` by default. This behavior will be depracted in transformers v4.45, and will be then set to `False` by default. For more details check this issue: https://github.com/huggingface/transformers/issues/31884\n",
      "  warnings.warn(\n"
     ]
    }
   ],
   "source": [
    "### get tokenizer and model for LegalBERT\n",
    "\n",
    "legalbert_tokenizer = AutoTokenizer.from_pretrained(\"nlpaueb/legal-bert-base-uncased\")"
   ]
  },
  {
   "cell_type": "code",
   "execution_count": 4,
   "metadata": {},
   "outputs": [],
   "source": [
    "### chunk contractnli dataset into sizes of 512\n",
    "\n",
    "def chunk_contractnli(ds, cs, os):\n",
    "    sep_token = legalbert_tokenizer.sep_token\n",
    "    concat_text = sep_token.join([sep_token.join([e['text'], e['hypothesis']]) for e in ds])\n",
    "    tokenized_text = legalbert_tokenizer(concat_text).input_ids\n",
    "    i = 0\n",
    "    chunks = []\n",
    "    with tqdm(total=100) as pbar:\n",
    "        while i < len(tokenized_text):\n",
    "            if i + cs >= len(tokenized_text):\n",
    "                chunks.append(tokenized_text[i:])\n",
    "                i = len(tokenized_text)\n",
    "            else:\n",
    "                chunks.append(tokenized_text[i: i + cs])\n",
    "                i += (cs - os)\n",
    "            pbar.update(i / len(tokenized_text))\n",
    "    return Dataset.from_dict({'input_ids': chunks})\n",
    "\n",
    "cs = 512\n",
    "os = 50\n",
    "contractnli_chunked = DatasetDict({mode: chunk_contractnli(contractnli_dataset[mode], cs, os) for mode in ['train', 'validation', 'test']})"
   ]
  },
  {
   "cell_type": "code",
   "execution_count": null,
   "metadata": {},
   "outputs": [],
   "source": [
    "# not using this for now\n",
    "# trainer_args = TrainingArguments(output_dir=\"baseline_dir\", deepspeed=\"ds_config.json\")"
   ]
  },
  {
   "cell_type": "code",
   "execution_count": null,
   "metadata": {},
   "outputs": [],
   "source": [
    "legalbert_model = AutoModelForMaskedLM.from_pretrained(\"nlpaueb/legal-bert-base-uncased\")\n",
    "\n",
    "### legalbert_tokenizer.model_max_length shows 512"
   ]
  },
  {
   "cell_type": "code",
   "execution_count": null,
   "metadata": {},
   "outputs": [],
   "source": [
    "data_collator = DataCollatorForLanguageModeling(tokenizer=legalbert_tokenizer)\n",
    "\n",
    "trainer = Trainer(model=legalbert_model, eval_dataset=contractnli_chunked['test'], data_collator=data_collator)\n",
    "# trainer = Trainer(model=legalbert_model, args=trainer_args, eval_dataset=contractnli_chunked['test'], data_collator=data_collator)"
   ]
  },
  {
   "cell_type": "code",
   "execution_count": null,
   "metadata": {},
   "outputs": [],
   "source": [
    "ret = trainer.evaluate()\n",
    "\n",
    "eval_loss = ret['eval_loss']\n",
    "\n",
    "with open(\"baseline.txt\", \"a\") as f:\n",
    "    f.write(f\"LegalBERT eval loss: {eval_loss}\\n\")\n",
    "\n",
    "### on validation set\n",
    "### eval_loss: 0.5897765159606934\n",
    "## with deepspeed eval_loss gives 0.5909032821656273\n",
    "\n",
    "### on test set\n",
    "### without deepspeed: \n",
    "# {'eval_loss': 0.6284850239753723,\n",
    "# 'eval_runtime': 97.6967,\n",
    "# 'eval_samples_per_second': 104.405,\n",
    "# 'eval_steps_per_second': 1.638}\n",
    "### with deepspeed: 0.6288514733314514,"
   ]
  }
 ],
 "metadata": {
  "kernelspec": {
   "display_name": "virtual-env",
   "language": "python",
   "name": "python3"
  },
  "language_info": {
   "codemirror_mode": {
    "name": "ipython",
    "version": 3
   },
   "file_extension": ".py",
   "mimetype": "text/x-python",
   "name": "python",
   "nbconvert_exporter": "python",
   "pygments_lexer": "ipython3",
   "version": "3.10.14"
  }
 },
 "nbformat": 4,
 "nbformat_minor": 2
}
