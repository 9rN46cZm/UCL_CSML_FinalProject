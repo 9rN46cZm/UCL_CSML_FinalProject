{
 "cells": [
  {
   "cell_type": "code",
   "execution_count": 1,
   "metadata": {},
   "outputs": [],
   "source": [
    "import vertexai\n",
    "from vertexai.generative_models import GenerativeModel"
   ]
  },
  {
   "cell_type": "code",
   "execution_count": 2,
   "metadata": {},
   "outputs": [],
   "source": [
    "from datasets import load_dataset, DatasetDict, Dataset\n",
    "import json\n",
    "from transformers import PerceiverTokenizer, PerceiverModel, PerceiverConfig, PerceiverPreTrainedModel, PerceiverForSequenceClassification, TrainingArguments, Trainer, \\\n",
    "    DataCollatorWithPadding\n",
    "import re\n",
    "import os\n",
    "from tqdm import tqdm\n",
    "import torch\n",
    "\n",
    "ROOT_PATH = \"..\"\n",
    "\n",
    "id2label = {0: \"Entailment\", 1: \"Contradiction\", 2: \"NotMentioned\"}\n",
    "label2id = {\"Entailment\": 0, \"Contradiction\": 1, \"NotMentioned\": 2}\n",
    "\n",
    "def load_dataset_custom(dataset_name):\n",
    "    if dataset_name == \"contract-nli\":\n",
    "        def contract_nli_iterator(data):\n",
    "            documents, labels = data['documents'], data['labels']\n",
    "            for document in documents:\n",
    "                id = document['id']\n",
    "                file_name = document['file_name']\n",
    "                text = document['text']\n",
    "                spans = document['spans']\n",
    "                annotation_sets = document['annotation_sets']\n",
    "                document_type = document['document_type']\n",
    "                url = document['url']\n",
    "                for annotation_id, annotation_content in annotation_sets[0]['annotations'].items():\n",
    "                    hypothesis = labels[annotation_id]['hypothesis']\n",
    "                    choice = annotation_content['choice']\n",
    "                    yield {\n",
    "                        \"id\": id,\n",
    "                        \"file_name\": file_name,\n",
    "                        \"text\": text,\n",
    "                        \"spans\": spans,\n",
    "                        \"document_type\": document_type,\n",
    "                        \"url\": url,\n",
    "                        \"hypothesis\": hypothesis,\n",
    "                        \"labels\": label2id[choice],\n",
    "                    }            \n",
    "        base_filepath = os.path.join(ROOT_PATH, \"ignored_dir/data/contract-nli\")\n",
    "        train_filepath = os.path.join(base_filepath, \"train.json\")\n",
    "        validation_filepath = os.path.join(base_filepath, \"dev.json\")\n",
    "        test_filepath = os.path.join(base_filepath, \"test.json\")\n",
    "        with open(train_filepath) as f:\n",
    "            train_data = json.load(f)\n",
    "        with open(validation_filepath) as f:\n",
    "            validation_data = json.load(f)\n",
    "        with open(test_filepath) as f:\n",
    "            test_data = json.load(f)\n",
    "        data = {\n",
    "            \"train\": Dataset.from_generator(lambda: contract_nli_iterator(train_data)),\n",
    "            \"validation\": Dataset.from_generator(lambda: contract_nli_iterator(validation_data)),\n",
    "            \"test\": Dataset.from_generator(lambda: contract_nli_iterator(test_data)),\n",
    "        }\n",
    "        return DatasetDict(data)\n",
    "    return None\n",
    "\n",
    "contract_nli_dataset = load_dataset_custom(\"contract-nli\")"
   ]
  },
  {
   "cell_type": "code",
   "execution_count": 3,
   "metadata": {},
   "outputs": [
    {
     "name": "stderr",
     "output_type": "stream",
     "text": [
      "  0%|          | 0/2091 [00:00<?, ?it/s]WARNING: All log messages before absl::InitializeLog() is called are written to STDERR\n",
      "I0000 00:00:1724084993.490352  105917 config.cc:230] gRPC experiments enabled: call_status_override_on_cancellation, event_engine_dns, event_engine_listener, http2_stats_fix, monitoring_experiment, pick_first_new, trace_record_callops, work_serializer_clears_time_cache\n",
      "100%|██████████| 2091/2091 [12:05<00:00,  2.88it/s, Entailment 1382 2091 0.6609277857484457 0]   "
     ]
    },
    {
     "name": "stdout",
     "output_type": "stream",
     "text": [
      "1382 2091 0.6609277857484457\n"
     ]
    },
    {
     "name": "stderr",
     "output_type": "stream",
     "text": [
      "\n"
     ]
    }
   ],
   "source": [
    "import time\n",
    "\n",
    "project_id = None\n",
    "\n",
    "vertexai.init(project=project_id, location=\"europe-west2\")\n",
    "\n",
    "model = GenerativeModel(\"gemini-1.5-flash-001\")\n",
    "\n",
    "accurate_cnt = 0\n",
    "total_cnt = 0\n",
    "exception_cnt = 0\n",
    "responses = []\n",
    "labels = []\n",
    "for test_e in (pbar:=tqdm(contract_nli_dataset['test'], total=len(contract_nli_dataset['test']))):\n",
    "    premise = test_e['text']\n",
    "    hypothesis = test_e['hypothesis']\n",
    "    label = test_e['labels']\n",
    "    while True:\n",
    "        try:\n",
    "            response = model.generate_content(\n",
    "f\"\"\"You will be given a premise and a hypothesis. Output the relationship between the premise and the hypothesis. Your answer should be either 'Contradiction', 'Entailment', or 'NotMentioned'. Do not include anything else in your answer, including special symbols.\n",
    "Premise: {premise}\n",
    "Hypothesis: {hypothesis}\n",
    "\"\"\")\n",
    "            break\n",
    "        except:\n",
    "            pbar.set_postfix_str(f\"sleeping {accurate_cnt} {total_cnt} {0 if not total_cnt else accurate_cnt / total_cnt } {exception_cnt}\")\n",
    "            time.sleep(70)\n",
    "    try:\n",
    "        response = response.text.strip()\n",
    "        response_id = -1 if response not in label2id else label2id[response]\n",
    "        if response_id == label:\n",
    "            accurate_cnt += 1\n",
    "        total_cnt += 1\n",
    "    except:\n",
    "        response = \"exception\"\n",
    "        exception_cnt += 1\n",
    "    responses.append(response)\n",
    "    labels.append(label)\n",
    "    pbar.set_postfix_str(f\"{response} {accurate_cnt} {total_cnt} {0 if not total_cnt else accurate_cnt / total_cnt } {exception_cnt}\")\n",
    "print(accurate_cnt, total_cnt, accurate_cnt / total_cnt)"
   ]
  },
  {
   "cell_type": "code",
   "execution_count": 4,
   "metadata": {},
   "outputs": [
    {
     "name": "stdout",
     "output_type": "stream",
     "text": [
      "['NotMentioned', 'Entailment', 'Entailment', 'NotMentioned', 'NotMentioned', 'NotMentioned', 'Entailment', 'NotMentioned', 'Entailment', 'NotMentioned', 'NotMentioned', 'NotMentioned', 'NotMentioned', 'Entailment', 'NotMentioned', 'Entailment', 'Entailment', 'Entailment', 'Entailment', 'Entailment', 'NotMentioned', 'NotMentioned', 'NotMentioned', 'Entailment', 'NotMentioned', 'Entailment', 'Entailment', 'NotMentioned', 'NotMentioned', 'Entailment', 'Entailment', 'NotMentioned', 'Entailment', 'Entailment', 'NotMentioned', 'Entailment', 'Entailment', 'NotMentioned', 'NotMentioned', 'NotMentioned', 'Entailment', 'NotMentioned', 'NotMentioned', 'NotMentioned', 'NotMentioned', 'NotMentioned', 'Entailment', 'NotMentioned', 'NotMentioned', 'Contradiction', 'Entailment', 'NotMentioned', 'NotMentioned', 'Entailment', 'NotMentioned', 'NotMentioned', 'NotMentioned', 'Entailment', 'NotMentioned', 'NotMentioned', 'Entailment', 'Entailment', 'NotMentioned', 'NotMentioned', 'Entailment', 'NotMentioned', 'NotMentioned', 'Entailment', 'NotMentioned', 'Entailment', 'Entailment', 'NotMentioned', 'NotMentioned', 'NotMentioned', 'Entailment', 'NotMentioned', 'Entailment', 'NotMentioned', 'NotMentioned', 'NotMentioned', 'NotMentioned', 'NotMentioned', 'NotMentioned', 'NotMentioned', 'Entailment', 'NotMentioned', 'NotMentioned', 'Contradiction', 'NotMentioned', 'NotMentioned', 'NotMentioned', 'NotMentioned', 'NotMentioned', 'NotMentioned', 'Entailment', 'NotMentioned', 'NotMentioned', 'NotMentioned', 'NotMentioned', 'NotMentioned', 'NotMentioned', 'Entailment', 'NotMentioned', 'Entailment', 'Contradiction', 'NotMentioned', 'NotMentioned', 'NotMentioned', 'NotMentioned', 'NotMentioned', 'NotMentioned', 'Entailment', 'NotMentioned', 'NotMentioned', 'NotMentioned', 'Entailment', 'NotMentioned', 'Entailment', 'Entailment', 'NotMentioned', 'NotMentioned', 'Contradiction', 'Entailment', 'NotMentioned', 'NotMentioned', 'Entailment', 'NotMentioned', 'NotMentioned', 'Entailment', 'Entailment', 'NotMentioned', 'NotMentioned', 'NotMentioned', 'NotMentioned', 'NotMentioned', 'Entailment', 'NotMentioned', 'Entailment', 'Entailment', 'Entailment', 'NotMentioned', 'NotMentioned', 'Entailment', 'NotMentioned', 'Entailment', 'NotMentioned', 'NotMentioned', 'NotMentioned', 'NotMentioned', 'Entailment', 'NotMentioned', 'Entailment', 'Entailment', 'NotMentioned', 'Entailment', 'Entailment', 'NotMentioned', 'NotMentioned', 'NotMentioned', 'Entailment', 'NotMentioned', 'NotMentioned', 'Entailment', 'NotMentioned', 'NotMentioned', 'Entailment', 'NotMentioned', 'NotMentioned', 'NotMentioned', 'Entailment', 'NotMentioned', 'Entailment', 'Entailment', 'Entailment', 'NotMentioned', 'NotMentioned', 'Entailment', 'NotMentioned', 'Entailment', 'NotMentioned', 'NotMentioned', 'Entailment', 'NotMentioned', 'Entailment', 'NotMentioned', 'NotMentioned', 'Entailment', 'NotMentioned', 'Entailment', 'Entailment', 'Entailment', 'NotMentioned', 'NotMentioned', 'Entailment', 'NotMentioned', 'NotMentioned', 'Entailment', 'NotMentioned', 'NotMentioned', 'NotMentioned', 'Entailment', 'NotMentioned', 'Entailment', 'Entailment', 'NotMentioned', 'Entailment', 'Entailment', 'NotMentioned', 'NotMentioned', 'NotMentioned', 'Entailment', 'NotMentioned', 'NotMentioned', 'NotMentioned', 'NotMentioned', 'NotMentioned', 'NotMentioned', 'NotMentioned', 'NotMentioned', 'NotMentioned', 'Entailment', 'NotMentioned', 'Entailment', 'Entailment', 'Entailment', 'NotMentioned', 'NotMentioned', 'Entailment', 'NotMentioned', 'NotMentioned', 'Entailment', 'NotMentioned', 'NotMentioned', 'NotMentioned', 'Entailment', 'NotMentioned', 'NotMentioned', 'Entailment', 'NotMentioned', 'NotMentioned', 'Entailment', 'NotMentioned', 'NotMentioned', 'NotMentioned', 'Entailment', 'NotMentioned', 'NotMentioned', 'Entailment', 'Entailment', 'Entailment', 'NotMentioned', 'NotMentioned', 'NotMentioned', 'Entailment', 'Entailment', 'NotMentioned', 'NotMentioned', 'Contradiction', 'NotMentioned', 'NotMentioned', 'NotMentioned', 'Entailment', 'NotMentioned', 'NotMentioned', 'NotMentioned', 'NotMentioned', 'NotMentioned', 'NotMentioned', 'NotMentioned', 'NotMentioned', 'Entailment', 'Entailment', 'NotMentioned', 'Entailment', 'Entailment', 'Entailment', 'NotMentioned', 'NotMentioned', 'Entailment', 'NotMentioned', 'NotMentioned', 'Entailment', 'NotMentioned', 'Entailment', 'NotMentioned', 'NotMentioned', 'NotMentioned', 'Entailment', 'Entailment', 'NotMentioned', 'Entailment', 'Entailment', 'NotMentioned', 'NotMentioned', 'NotMentioned', 'Entailment', 'NotMentioned', 'NotMentioned', 'Entailment', 'NotMentioned', 'NotMentioned', 'NotMentioned', 'NotMentioned', 'NotMentioned', 'Entailment', 'Entailment', 'NotMentioned', 'NotMentioned', 'Contradiction', 'NotMentioned', 'NotMentioned', 'NotMentioned', 'NotMentioned', 'NotMentioned', 'NotMentioned', 'Entailment', 'NotMentioned', 'NotMentioned', 'NotMentioned', 'NotMentioned', 'NotMentioned', 'NotMentioned', 'Entailment', 'NotMentioned', 'Entailment', 'Contradiction', 'NotMentioned', 'NotMentioned', 'NotMentioned', 'Entailment', 'NotMentioned', 'NotMentioned', 'NotMentioned', 'NotMentioned', 'NotMentioned', 'NotMentioned', 'NotMentioned', 'NotMentioned', 'Entailment', 'Entailment', 'NotMentioned', 'NotMentioned', 'Entailment', 'NotMentioned', 'NotMentioned', 'NotMentioned', 'Entailment', 'NotMentioned', 'NotMentioned', 'NotMentioned', 'Entailment', 'Entailment', 'NotMentioned', 'NotMentioned', 'NotMentioned', 'Entailment', 'Entailment', 'NotMentioned', 'NotMentioned', 'Entailment', 'NotMentioned', 'NotMentioned', 'NotMentioned', 'NotMentioned', 'NotMentioned', 'NotMentioned', 'Entailment', 'NotMentioned', 'NotMentioned', 'NotMentioned', 'NotMentioned', 'NotMentioned', 'Entailment', 'Entailment', 'NotMentioned', 'Entailment', 'Entailment', 'NotMentioned', 'NotMentioned', 'NotMentioned', 'Entailment', 'NotMentioned', 'NotMentioned', 'Entailment', 'NotMentioned', 'NotMentioned', 'NotMentioned', 'NotMentioned', 'NotMentioned', 'NotMentioned', 'Entailment', 'NotMentioned', 'NotMentioned', 'Contradiction', 'NotMentioned', 'NotMentioned', 'NotMentioned', 'NotMentioned', 'NotMentioned', 'NotMentioned', 'NotMentioned', 'Entailment', 'Entailment', 'NotMentioned', 'NotMentioned', 'NotMentioned', 'NotMentioned', 'Entailment', 'NotMentioned', 'Entailment', 'Entailment', 'NotMentioned', 'NotMentioned', 'NotMentioned', 'Entailment', 'NotMentioned', 'NotMentioned', 'Entailment', 'NotMentioned', 'NotMentioned', 'NotMentioned', 'NotMentioned', 'NotMentioned', 'NotMentioned', 'Entailment', 'NotMentioned', 'Entailment', 'NotMentioned', 'Entailment', 'NotMentioned', 'NotMentioned', 'Entailment', 'NotMentioned', 'Entailment', 'NotMentioned', 'NotMentioned', 'NotMentioned', 'Entailment', 'Entailment', 'NotMentioned', 'Entailment', 'Entailment', 'NotMentioned', 'Entailment', 'Entailment', 'Entailment', 'NotMentioned', 'NotMentioned', 'Entailment', 'NotMentioned', 'NotMentioned', 'Entailment', 'NotMentioned', 'NotMentioned', 'NotMentioned', 'NotMentioned', 'NotMentioned', 'Entailment', 'Entailment', 'NotMentioned', 'NotMentioned', 'Entailment', 'Entailment', 'NotMentioned', 'NotMentioned', 'Entailment', 'NotMentioned', 'NotMentioned', 'Entailment', 'NotMentioned', 'Entailment', 'NotMentioned', 'NotMentioned', 'NotMentioned', 'Entailment', 'Entailment', 'NotMentioned', 'Entailment', 'Contradiction', 'NotMentioned', 'NotMentioned', 'NotMentioned', 'Entailment', 'NotMentioned', 'NotMentioned', 'NotMentioned', 'NotMentioned', 'NotMentioned', 'NotMentioned', 'NotMentioned', 'NotMentioned', 'NotMentioned', 'Entailment', 'NotMentioned', 'Entailment', 'Entailment', 'Entailment', 'NotMentioned', 'NotMentioned', 'Entailment', 'NotMentioned', 'Entailment', 'NotMentioned', 'NotMentioned', 'NotMentioned', 'Entailment', 'Entailment', 'NotMentioned', 'Entailment', 'Entailment', 'Entailment', 'Entailment', 'Entailment', 'NotMentioned', 'NotMentioned', 'Entailment', 'Entailment', 'NotMentioned', 'NotMentioned', 'NotMentioned', 'NotMentioned', 'NotMentioned', 'NotMentioned', 'Entailment', 'NotMentioned', 'NotMentioned', 'Entailment', 'NotMentioned', 'Entailment', 'Contradiction', 'Entailment', 'NotMentioned', 'NotMentioned', 'NotMentioned', 'NotMentioned', 'NotMentioned', 'Entailment', 'NotMentioned', 'NotMentioned', 'NotMentioned', 'NotMentioned', 'NotMentioned', 'NotMentioned', 'Entailment', 'NotMentioned', 'Entailment', 'Entailment', 'NotMentioned', 'NotMentioned', 'NotMentioned', 'Entailment', 'NotMentioned', 'Entailment', 'Entailment', 'NotMentioned', 'Entailment', 'Entailment', 'Entailment', 'NotMentioned', 'Entailment', 'Entailment', 'NotMentioned', 'NotMentioned', 'Contradiction', 'NotMentioned', 'NotMentioned', 'NotMentioned', 'Entailment', 'NotMentioned', 'NotMentioned', 'Entailment', 'NotMentioned', 'NotMentioned', 'NotMentioned', 'NotMentioned', 'NotMentioned', 'NotMentioned', 'Entailment', 'NotMentioned', 'Entailment', 'Contradiction', 'NotMentioned', 'NotMentioned', 'NotMentioned', 'Entailment', 'NotMentioned', 'NotMentioned', 'NotMentioned', 'Entailment', 'NotMentioned', 'NotMentioned', 'Entailment', 'NotMentioned', 'Entailment', 'Entailment', 'NotMentioned', 'Entailment', 'Entailment', 'Entailment', 'NotMentioned', 'NotMentioned', 'Entailment', 'NotMentioned', 'Entailment', 'Entailment', 'NotMentioned', 'NotMentioned', 'Entailment', 'Entailment', 'NotMentioned', 'Entailment', 'Entailment', 'NotMentioned', 'Entailment', 'Entailment', 'NotMentioned', 'NotMentioned', 'NotMentioned', 'Entailment', 'NotMentioned', 'Entailment', 'Entailment', 'NotMentioned', 'NotMentioned', 'Entailment', 'Entailment', 'NotMentioned', 'NotMentioned', 'Entailment', 'NotMentioned', 'Entailment', 'Entailment', 'NotMentioned', 'NotMentioned', 'NotMentioned', 'Entailment', 'NotMentioned', 'NotMentioned', 'Entailment', 'NotMentioned', 'Entailment', 'NotMentioned', 'NotMentioned', 'NotMentioned', 'Entailment', 'Entailment', 'NotMentioned', 'Entailment', 'Entailment', 'NotMentioned', 'NotMentioned', 'NotMentioned', 'NotMentioned', 'NotMentioned', 'NotMentioned', 'Entailment', 'NotMentioned', 'NotMentioned', 'NotMentioned', 'NotMentioned', 'NotMentioned', 'NotMentioned', 'Entailment', 'NotMentioned', 'Entailment', 'Entailment', 'Entailment', 'NotMentioned', 'NotMentioned', 'Entailment', 'NotMentioned', 'NotMentioned', 'Entailment', 'NotMentioned', 'NotMentioned', 'NotMentioned', 'Entailment', 'NotMentioned', 'NotMentioned', 'Entailment', 'NotMentioned', 'Entailment', 'NotMentioned', 'NotMentioned', 'NotMentioned', 'NotMentioned', 'Entailment', 'NotMentioned', 'NotMentioned', 'NotMentioned', 'NotMentioned', 'NotMentioned', 'NotMentioned', 'Entailment', 'NotMentioned', 'NotMentioned', 'Entailment', 'NotMentioned', 'Entailment', 'Entailment', 'NotMentioned', 'NotMentioned', 'NotMentioned', 'NotMentioned', 'NotMentioned', 'NotMentioned', 'Entailment', 'NotMentioned', 'NotMentioned', 'Entailment', 'NotMentioned', 'NotMentioned', 'Entailment', 'Entailment', 'NotMentioned', 'Entailment', 'NotMentioned', 'NotMentioned', 'NotMentioned', 'NotMentioned', 'Entailment', 'NotMentioned', 'NotMentioned', 'Entailment', 'NotMentioned', 'NotMentioned', 'NotMentioned', 'Entailment', 'NotMentioned', 'NotMentioned', 'NotMentioned', 'Entailment', 'Entailment', 'Entailment', 'Entailment', 'NotMentioned', 'NotMentioned', 'Entailment', 'NotMentioned', 'NotMentioned', 'Entailment', 'NotMentioned', 'Entailment', 'NotMentioned', 'Entailment', 'NotMentioned', 'Entailment', 'Entailment', 'NotMentioned', 'Entailment', 'Contradiction', 'NotMentioned', 'NotMentioned', 'NotMentioned', 'Entailment', 'NotMentioned', 'NotMentioned', 'NotMentioned', 'NotMentioned', 'NotMentioned', 'NotMentioned', 'NotMentioned', 'NotMentioned', 'NotMentioned', 'Entailment', 'NotMentioned', 'Entailment', 'Entailment', 'NotMentioned', 'NotMentioned', 'NotMentioned', 'Entailment', 'NotMentioned', 'NotMentioned', 'NotMentioned', 'NotMentioned', 'Entailment', 'NotMentioned', 'NotMentioned', 'NotMentioned', 'NotMentioned', 'Entailment', 'NotMentioned', 'Entailment', 'Entailment', 'Entailment', 'NotMentioned', 'NotMentioned', 'Entailment', 'NotMentioned', 'NotMentioned', 'NotMentioned', 'NotMentioned', 'NotMentioned', 'NotMentioned', 'NotMentioned', 'NotMentioned', 'Entailment', 'Entailment', 'NotMentioned', 'NotMentioned', 'Contradiction', 'NotMentioned', 'NotMentioned', 'NotMentioned', 'NotMentioned', 'NotMentioned', 'NotMentioned', 'NotMentioned', 'NotMentioned', 'NotMentioned', 'NotMentioned', 'NotMentioned', 'NotMentioned', 'NotMentioned', 'Entailment', 'NotMentioned', 'Entailment', 'NotMentioned', 'NotMentioned', 'NotMentioned', 'NotMentioned', 'NotMentioned', 'NotMentioned', 'NotMentioned', 'NotMentioned', 'Entailment', 'NotMentioned', 'Entailment', 'NotMentioned', 'NotMentioned', 'Entailment', 'Entailment', 'NotMentioned', 'Entailment', 'Contradiction', 'NotMentioned', 'NotMentioned', 'NotMentioned', 'Entailment', 'NotMentioned', 'NotMentioned', 'NotMentioned', 'NotMentioned', 'NotMentioned', 'NotMentioned', 'NotMentioned', 'NotMentioned', 'NotMentioned', 'Entailment', 'NotMentioned', 'Entailment', 'Contradiction', 'NotMentioned', 'NotMentioned', 'NotMentioned', 'Entailment', 'NotMentioned', 'Entailment', 'Entailment', 'NotMentioned', 'NotMentioned', 'Entailment', 'Entailment', 'NotMentioned', 'NotMentioned', 'Entailment', 'NotMentioned', 'Entailment', 'Entailment', 'NotMentioned', 'NotMentioned', 'NotMentioned', 'NotMentioned', 'NotMentioned', 'NotMentioned', 'NotMentioned', 'NotMentioned', 'Entailment', 'Entailment', 'Entailment', 'NotMentioned', 'Entailment', 'Entailment', 'NotMentioned', 'NotMentioned', 'Entailment', 'Entailment', 'NotMentioned', 'NotMentioned', 'Entailment', 'NotMentioned', 'NotMentioned', 'NotMentioned', 'NotMentioned', 'NotMentioned', 'Entailment', 'Entailment', 'NotMentioned', 'NotMentioned', 'Entailment', 'NotMentioned', 'NotMentioned', 'Entailment', 'NotMentioned', 'NotMentioned', 'NotMentioned', 'Entailment', 'NotMentioned', 'NotMentioned', 'Entailment', 'NotMentioned', 'NotMentioned', 'NotMentioned', 'Entailment', 'NotMentioned', 'Entailment', 'Entailment', 'Entailment', 'Entailment', 'Entailment', 'NotMentioned', 'NotMentioned', 'NotMentioned', 'NotMentioned', 'NotMentioned', 'NotMentioned', 'NotMentioned', 'Entailment', 'NotMentioned', 'NotMentioned', 'NotMentioned', 'NotMentioned', 'NotMentioned', 'Entailment', 'NotMentioned', 'Entailment', 'Entailment', 'NotMentioned', 'NotMentioned', 'NotMentioned', 'Entailment', 'NotMentioned', 'NotMentioned', 'NotMentioned', 'NotMentioned', 'NotMentioned', 'NotMentioned', 'Entailment', 'NotMentioned', 'Entailment', 'Entailment', 'Entailment', 'Entailment', 'Entailment', 'NotMentioned', 'NotMentioned', 'NotMentioned', 'Entailment', 'NotMentioned', 'NotMentioned', 'Entailment', 'NotMentioned', 'NotMentioned', 'Entailment', 'Entailment', 'NotMentioned', 'Entailment', 'Entailment', 'NotMentioned', 'NotMentioned', 'Entailment', 'NotMentioned', 'NotMentioned', 'NotMentioned', 'NotMentioned', 'NotMentioned', 'NotMentioned', 'Entailment', 'NotMentioned', 'NotMentioned', 'Entailment', 'Entailment', 'NotMentioned', 'NotMentioned', 'Entailment', 'NotMentioned', 'Entailment', 'Entailment', 'NotMentioned', 'NotMentioned', 'NotMentioned', 'NotMentioned', 'NotMentioned', 'NotMentioned', 'Entailment', 'NotMentioned', 'NotMentioned', 'NotMentioned', 'NotMentioned', 'NotMentioned', 'Entailment', 'Entailment', 'NotMentioned', 'Entailment', 'Entailment', 'Entailment', 'NotMentioned', 'Entailment', 'Entailment', 'NotMentioned', 'Entailment', 'NotMentioned', 'NotMentioned', 'NotMentioned', 'Entailment', 'Entailment', 'NotMentioned', 'NotMentioned', 'Entailment', 'NotMentioned', 'Entailment', 'NotMentioned', 'Entailment', 'NotMentioned', 'NotMentioned', 'Entailment', 'NotMentioned', 'NotMentioned', 'Entailment', 'NotMentioned', 'Entailment', 'NotMentioned', 'NotMentioned', 'NotMentioned', 'Entailment', 'Entailment', 'NotMentioned', 'Entailment', 'NotMentioned', 'NotMentioned', 'NotMentioned', 'NotMentioned', 'Entailment', 'NotMentioned', 'NotMentioned', 'Entailment', 'Entailment', 'NotMentioned', 'Entailment', 'Entailment', 'NotMentioned', 'Entailment', 'Entailment', 'NotMentioned', 'NotMentioned', 'Contradiction', 'NotMentioned', 'NotMentioned', 'NotMentioned', 'NotMentioned', 'NotMentioned', 'NotMentioned', 'NotMentioned', 'NotMentioned', 'Entailment', 'NotMentioned', 'NotMentioned', 'NotMentioned', 'NotMentioned', 'Entailment', 'NotMentioned', 'Entailment', 'Entailment', 'Entailment', 'NotMentioned', 'NotMentioned', 'Entailment', 'NotMentioned', 'NotMentioned', 'Entailment', 'NotMentioned', 'NotMentioned', 'NotMentioned', 'Entailment', 'NotMentioned', 'Entailment', 'Entailment', 'NotMentioned', 'Entailment', 'Entailment', 'NotMentioned', 'NotMentioned', 'NotMentioned', 'Entailment', 'NotMentioned', 'NotMentioned', 'NotMentioned', 'NotMentioned', 'NotMentioned', 'NotMentioned', 'NotMentioned', 'NotMentioned', 'NotMentioned', 'Entailment', 'NotMentioned', 'Entailment', 'Contradiction', 'NotMentioned', 'NotMentioned', 'NotMentioned', 'Entailment', 'NotMentioned', 'NotMentioned', 'NotMentioned', 'NotMentioned', 'NotMentioned', 'NotMentioned', 'Entailment', 'NotMentioned', 'Entailment', 'Entailment', 'NotMentioned', 'NotMentioned', 'Entailment', 'NotMentioned', 'NotMentioned', 'NotMentioned', 'NotMentioned', 'NotMentioned', 'NotMentioned', 'NotMentioned', 'NotMentioned', 'NotMentioned', 'NotMentioned', 'NotMentioned', 'NotMentioned', 'NotMentioned', 'Entailment', 'Entailment', 'NotMentioned', 'Entailment', 'Entailment', 'NotMentioned', 'NotMentioned', 'NotMentioned', 'NotMentioned', 'NotMentioned', 'Entailment', 'NotMentioned', 'Contradiction', 'NotMentioned', 'Entailment', 'NotMentioned', 'NotMentioned', 'Entailment', 'NotMentioned', 'Entailment', 'Entailment', 'NotMentioned', 'NotMentioned', 'NotMentioned', 'Entailment', 'NotMentioned', 'NotMentioned', 'Entailment', 'NotMentioned', 'Contradiction', 'NotMentioned', 'NotMentioned', 'NotMentioned', 'NotMentioned', 'Entailment', 'NotMentioned', 'Entailment', 'Entailment', 'NotMentioned', 'NotMentioned', 'Entailment', 'Entailment', 'NotMentioned', 'NotMentioned', 'Entailment', 'NotMentioned', 'NotMentioned', 'NotMentioned', 'Entailment', 'NotMentioned', 'Entailment', 'Entailment', 'NotMentioned', 'Entailment', 'Entailment', 'NotMentioned', 'NotMentioned', 'NotMentioned', 'Entailment', 'NotMentioned', 'NotMentioned', 'Entailment', 'NotMentioned', 'Entailment', 'NotMentioned', 'NotMentioned', 'NotMentioned', 'NotMentioned', 'Entailment', 'Entailment', 'NotMentioned', 'Entailment', 'NotMentioned', 'NotMentioned', 'NotMentioned', 'NotMentioned', 'NotMentioned', 'NotMentioned', 'Entailment', 'NotMentioned', 'Entailment', 'Entailment', 'Entailment', 'NotMentioned', 'Entailment', 'Entailment', 'NotMentioned', 'NotMentioned', 'NotMentioned', 'NotMentioned', 'NotMentioned', 'NotMentioned', 'NotMentioned', 'NotMentioned', 'NotMentioned', 'Entailment', 'NotMentioned', 'NotMentioned', 'NotMentioned', 'NotMentioned', 'NotMentioned', 'NotMentioned', 'NotMentioned', 'NotMentioned', 'Entailment', 'Entailment', 'NotMentioned', 'NotMentioned', 'Entailment', 'Entailment', 'NotMentioned', 'Entailment', 'Entailment', 'NotMentioned', 'NotMentioned', 'Entailment', 'Entailment', 'NotMentioned', 'Entailment', 'Entailment', 'NotMentioned', 'NotMentioned', 'Entailment', 'NotMentioned', 'NotMentioned', 'NotMentioned', 'NotMentioned', 'NotMentioned', 'NotMentioned', 'Entailment', 'NotMentioned', 'NotMentioned', 'NotMentioned', 'Entailment', 'NotMentioned', 'NotMentioned', 'Entailment', 'NotMentioned', 'Entailment', 'Contradiction', 'NotMentioned', 'NotMentioned', 'NotMentioned', 'Entailment', 'NotMentioned', 'NotMentioned', 'Entailment', 'NotMentioned', 'NotMentioned', 'NotMentioned', 'Entailment', 'NotMentioned', 'Entailment', 'Entailment', 'NotMentioned', 'NotMentioned', 'Entailment', 'NotMentioned', 'NotMentioned', 'NotMentioned', 'Entailment', 'NotMentioned', 'NotMentioned', 'Entailment', 'Entailment', 'NotMentioned', 'NotMentioned', 'Entailment', 'NotMentioned', 'NotMentioned', 'Entailment', 'NotMentioned', 'NotMentioned', 'Entailment', 'NotMentioned', 'NotMentioned', 'NotMentioned', 'NotMentioned', 'NotMentioned', 'NotMentioned', 'NotMentioned', 'NotMentioned', 'NotMentioned', 'NotMentioned', 'Entailment', 'NotMentioned', 'NotMentioned', 'Entailment', 'NotMentioned', 'Entailment', 'Contradiction', 'Entailment', 'NotMentioned', 'NotMentioned', 'Entailment', 'NotMentioned', 'NotMentioned', 'Entailment', 'NotMentioned', 'NotMentioned', 'Entailment', 'Entailment', 'NotMentioned', 'Entailment', 'Entailment', 'NotMentioned', 'NotMentioned', 'NotMentioned', 'NotMentioned', 'NotMentioned', 'NotMentioned', 'Entailment', 'NotMentioned', 'NotMentioned', 'NotMentioned', 'Entailment', 'NotMentioned', 'NotMentioned', 'NotMentioned', 'NotMentioned', 'NotMentioned', 'Entailment', 'NotMentioned', 'Entailment', 'Contradiction', 'Entailment', 'NotMentioned', 'NotMentioned', 'Entailment', 'NotMentioned', 'NotMentioned', 'Entailment', 'Entailment', 'Entailment', 'NotMentioned', 'Entailment', 'NotMentioned', 'Entailment', 'Entailment', 'Entailment', 'Entailment', 'Entailment', 'Entailment', 'NotMentioned', 'Entailment', 'Entailment', 'NotMentioned', 'NotMentioned', 'Entailment', 'NotMentioned', 'NotMentioned', 'NotMentioned', 'Entailment', 'NotMentioned', 'NotMentioned', 'Entailment', 'NotMentioned', 'NotMentioned', 'NotMentioned', 'NotMentioned', 'NotMentioned', 'NotMentioned', 'NotMentioned', 'NotMentioned', 'NotMentioned', 'NotMentioned', 'Entailment', 'NotMentioned', 'NotMentioned', 'NotMentioned', 'NotMentioned', 'NotMentioned', 'Entailment', 'NotMentioned', 'Entailment', 'Contradiction', 'NotMentioned', 'NotMentioned', 'NotMentioned', 'Entailment', 'NotMentioned', 'NotMentioned', 'Entailment', 'Entailment', 'NotMentioned', 'NotMentioned', 'NotMentioned', 'NotMentioned', 'NotMentioned', 'Entailment', 'NotMentioned', 'Entailment', 'Entailment', 'NotMentioned', 'NotMentioned', 'Entailment', 'Entailment', 'NotMentioned', 'NotMentioned', 'NotMentioned', 'NotMentioned', 'NotMentioned', 'Entailment', 'NotMentioned', 'NotMentioned', 'NotMentioned', 'NotMentioned', 'NotMentioned', 'Entailment', 'Entailment', 'NotMentioned', 'NotMentioned', 'NotMentioned', 'Entailment', 'NotMentioned', 'Entailment', 'NotMentioned', 'NotMentioned', 'NotMentioned', 'Entailment', 'NotMentioned', 'NotMentioned', 'Entailment', 'NotMentioned', 'NotMentioned', 'NotMentioned', 'Contradiction', 'NotMentioned', 'NotMentioned', 'NotMentioned', 'NotMentioned', 'NotMentioned', 'NotMentioned', 'NotMentioned', 'Entailment', 'NotMentioned', 'NotMentioned', 'NotMentioned', 'NotMentioned', 'NotMentioned', 'Entailment', 'Entailment', 'Entailment', 'Entailment', 'Entailment', 'NotMentioned', 'NotMentioned', 'Entailment', 'NotMentioned', 'NotMentioned', 'NotMentioned', 'NotMentioned', 'NotMentioned', 'NotMentioned', 'NotMentioned', 'NotMentioned', 'Entailment', 'Entailment', 'NotMentioned', 'NotMentioned', 'NotMentioned', 'NotMentioned', 'NotMentioned', 'NotMentioned', 'NotMentioned', 'NotMentioned', 'NotMentioned', 'NotMentioned', 'Entailment', 'NotMentioned', 'NotMentioned', 'NotMentioned', 'NotMentioned', 'NotMentioned', 'Entailment', 'NotMentioned', 'NotMentioned', 'Contradiction', 'NotMentioned', 'NotMentioned', 'NotMentioned', 'NotMentioned', 'NotMentioned', 'NotMentioned', 'NotMentioned', 'NotMentioned', 'NotMentioned', 'NotMentioned', 'NotMentioned', 'NotMentioned', 'Contradiction', 'Entailment', 'Entailment', 'Entailment', 'Entailment', 'NotMentioned', 'NotMentioned', 'NotMentioned', 'Entailment', 'NotMentioned', 'Entailment', 'Entailment', 'NotMentioned', 'NotMentioned', 'NotMentioned', 'NotMentioned', 'NotMentioned', 'Entailment', 'Entailment', 'NotMentioned', 'Entailment', 'Contradiction', 'NotMentioned', 'NotMentioned', 'NotMentioned', 'Entailment', 'NotMentioned', 'Entailment', 'NotMentioned', 'NotMentioned', 'NotMentioned', 'NotMentioned', 'Entailment', 'NotMentioned', 'NotMentioned', 'Entailment', 'NotMentioned', 'NotMentioned', 'NotMentioned', 'NotMentioned', 'NotMentioned', 'NotMentioned', 'NotMentioned', 'NotMentioned', 'NotMentioned', 'NotMentioned', 'Entailment', 'NotMentioned', 'NotMentioned', 'NotMentioned', 'NotMentioned', 'NotMentioned', 'Entailment', 'NotMentioned', 'Entailment', 'Contradiction', 'NotMentioned', 'NotMentioned', 'NotMentioned', 'Entailment', 'NotMentioned', 'NotMentioned', 'Entailment', 'NotMentioned', 'NotMentioned', 'NotMentioned', 'Entailment', 'NotMentioned', 'Entailment', 'Entailment', 'NotMentioned', 'Entailment', 'Entailment', 'NotMentioned', 'NotMentioned', 'NotMentioned', 'Entailment', 'NotMentioned', 'NotMentioned', 'NotMentioned', 'NotMentioned', 'NotMentioned', 'NotMentioned', 'NotMentioned', 'NotMentioned', 'Entailment', 'Entailment', 'NotMentioned', 'NotMentioned', 'Contradiction', 'NotMentioned', 'NotMentioned', 'NotMentioned', 'NotMentioned', 'NotMentioned', 'NotMentioned', 'NotMentioned', 'Entailment', 'Entailment', 'NotMentioned', 'Entailment', 'NotMentioned', 'Entailment', 'Entailment', 'NotMentioned', 'Entailment', 'Entailment', 'Entailment', 'NotMentioned', 'Contradiction', 'NotMentioned', 'NotMentioned', 'NotMentioned', 'Entailment', 'NotMentioned', 'NotMentioned', 'NotMentioned', 'Entailment', 'NotMentioned', 'Entailment', 'Entailment', 'Entailment', 'Entailment', 'Entailment', 'NotMentioned', 'NotMentioned', 'NotMentioned', 'Entailment', 'NotMentioned', 'Entailment', 'NotMentioned', 'NotMentioned', 'NotMentioned', 'NotMentioned', 'Entailment', 'NotMentioned', 'NotMentioned', 'Entailment', 'NotMentioned', 'NotMentioned', 'Entailment', 'NotMentioned', 'NotMentioned', 'NotMentioned', 'NotMentioned', 'NotMentioned', 'NotMentioned', 'Entailment', 'NotMentioned', 'NotMentioned', 'NotMentioned', 'NotMentioned', 'NotMentioned', 'NotMentioned', 'Entailment', 'NotMentioned', 'NotMentioned', 'Entailment', 'NotMentioned', 'NotMentioned', 'NotMentioned', 'Entailment', 'NotMentioned', 'NotMentioned', 'NotMentioned', 'NotMentioned', 'NotMentioned', 'NotMentioned', 'NotMentioned', 'NotMentioned', 'Entailment', 'Entailment', 'NotMentioned', 'Entailment', 'Entailment', 'Entailment', 'NotMentioned', 'NotMentioned', 'Entailment', 'NotMentioned', 'Entailment', 'NotMentioned', 'Entailment', 'Entailment', 'Entailment', 'Entailment', 'NotMentioned', 'NotMentioned', 'Entailment', 'NotMentioned', 'Entailment', 'Contradiction', 'Entailment', 'NotMentioned', 'NotMentioned', 'Entailment', 'NotMentioned', 'NotMentioned', 'Entailment', 'Entailment', 'Entailment', 'NotMentioned', 'Entailment', 'NotMentioned', 'Entailment', 'Entailment', 'NotMentioned', 'Entailment', 'Entailment', 'Entailment', 'NotMentioned', 'NotMentioned', 'Entailment', 'NotMentioned', 'NotMentioned', 'Entailment', 'Entailment', 'Entailment', 'NotMentioned', 'Entailment', 'NotMentioned', 'Entailment', 'Entailment', 'NotMentioned', 'Entailment', 'Contradiction', 'Entailment', 'NotMentioned', 'NotMentioned', 'Entailment', 'NotMentioned', 'Entailment', 'Entailment', 'Entailment', 'Entailment', 'Entailment', 'Entailment', 'NotMentioned', 'Entailment', 'Entailment', 'NotMentioned', 'Entailment', 'Contradiction', 'Entailment', 'NotMentioned', 'NotMentioned', 'Entailment', 'NotMentioned', 'Entailment', 'Entailment', 'Entailment', 'Entailment', 'Entailment', 'Entailment', 'NotMentioned', 'Entailment', 'Entailment', 'NotMentioned', 'Entailment', 'Contradiction', 'Entailment', 'NotMentioned', 'NotMentioned', 'Entailment', 'NotMentioned', 'Entailment', 'Entailment', 'NotMentioned', 'NotMentioned', 'NotMentioned', 'NotMentioned', 'NotMentioned', 'Entailment', 'Entailment', 'NotMentioned', 'Entailment', 'Contradiction', 'Entailment', 'NotMentioned', 'NotMentioned', 'Entailment', 'NotMentioned', 'Entailment', 'NotMentioned', 'Entailment', 'Entailment', 'NotMentioned', 'Entailment', 'NotMentioned', 'NotMentioned', 'Entailment', 'Entailment', 'Entailment', 'Entailment', 'NotMentioned', 'NotMentioned', 'NotMentioned', 'Entailment', 'Entailment', 'Entailment', 'Entailment', 'NotMentioned', 'NotMentioned', 'Entailment', 'Entailment', 'Entailment', 'Entailment', 'Entailment', 'NotMentioned', 'Entailment', 'Entailment', 'NotMentioned', 'NotMentioned', 'NotMentioned', 'Entailment', 'NotMentioned', 'NotMentioned', 'Entailment', 'NotMentioned', 'Entailment', 'NotMentioned', 'NotMentioned', 'NotMentioned', 'Entailment', 'Entailment', 'NotMentioned', 'Entailment', 'Entailment', 'Entailment', 'NotMentioned', 'NotMentioned', 'Entailment', 'NotMentioned', 'Entailment', 'NotMentioned', 'Entailment', 'Entailment', 'Entailment', 'Entailment', 'NotMentioned', 'Entailment', 'Entailment', 'NotMentioned', 'NotMentioned', 'NotMentioned', 'NotMentioned', 'NotMentioned', 'NotMentioned', 'Entailment', 'NotMentioned', 'NotMentioned', 'NotMentioned', 'Entailment', 'NotMentioned', 'NotMentioned', 'NotMentioned', 'NotMentioned', 'NotMentioned', 'Entailment', 'NotMentioned', 'Entailment', 'Entailment', 'Entailment', 'NotMentioned', 'NotMentioned', 'Entailment', 'Entailment', 'Entailment', 'Entailment', 'Entailment', 'NotMentioned', 'Entailment', 'Entailment', 'NotMentioned', 'Entailment', 'Entailment', 'Entailment', 'Entailment', 'Entailment', 'Entailment', 'NotMentioned', 'NotMentioned', 'NotMentioned', 'NotMentioned', 'NotMentioned', 'Entailment', 'Entailment', 'Entailment', 'NotMentioned', 'Entailment', 'NotMentioned', 'NotMentioned', 'Entailment', 'NotMentioned', 'Entailment', 'Entailment', 'Entailment', 'NotMentioned', 'NotMentioned', 'Entailment', 'NotMentioned', 'Entailment', 'NotMentioned', 'NotMentioned', 'NotMentioned', 'Entailment', 'Entailment', 'NotMentioned', 'NotMentioned', 'Entailment', 'NotMentioned', 'Entailment', 'Entailment', 'Entailment', 'NotMentioned', 'NotMentioned', 'NotMentioned', 'NotMentioned', 'Entailment', 'Entailment', 'Entailment', 'Entailment', 'Entailment', 'Entailment', 'NotMentioned', 'Entailment', 'Entailment', 'NotMentioned', 'Entailment', 'Entailment', 'Entailment', 'NotMentioned', 'NotMentioned', 'Entailment', 'NotMentioned', 'Entailment', 'Entailment', 'Entailment', 'Entailment', 'NotMentioned', 'Entailment', 'NotMentioned', 'Entailment', 'Entailment', 'NotMentioned', 'Entailment', 'Contradiction', 'Entailment', 'NotMentioned', 'NotMentioned', 'Entailment', 'NotMentioned', 'Entailment', 'Entailment', 'Entailment', 'Entailment', 'NotMentioned', 'Entailment', 'NotMentioned', 'Entailment', 'Entailment', 'NotMentioned', 'Entailment', 'Contradiction', 'Entailment', 'NotMentioned', 'NotMentioned', 'Entailment', 'NotMentioned', 'NotMentioned', 'Entailment', 'NotMentioned', 'Entailment', 'NotMentioned', 'Entailment', 'NotMentioned', 'Entailment', 'Entailment', 'NotMentioned', 'Entailment', 'Entailment', 'Entailment', 'NotMentioned', 'NotMentioned', 'Entailment', 'NotMentioned', 'Entailment', 'Entailment', 'Entailment', 'Entailment', 'Entailment', 'Entailment', 'NotMentioned', 'Entailment', 'Entailment', 'NotMentioned', 'NotMentioned', 'Contradiction', 'NotMentioned', 'NotMentioned', 'NotMentioned', 'NotMentioned', 'NotMentioned', 'NotMentioned', 'NotMentioned', 'Entailment', 'NotMentioned', 'NotMentioned', 'NotMentioned', 'NotMentioned', 'NotMentioned', 'Entailment', 'NotMentioned', 'Entailment', 'Entailment', 'NotMentioned', 'NotMentioned', 'NotMentioned', 'Entailment', 'NotMentioned', 'NotMentioned', 'NotMentioned', 'NotMentioned', 'Contradiction', 'Contradiction', 'NotMentioned', 'NotMentioned', 'NotMentioned', 'Entailment', 'NotMentioned', 'Entailment', 'Entailment', 'Entailment', 'NotMentioned', 'NotMentioned', 'Entailment', 'NotMentioned', 'Entailment', 'Entailment', 'Entailment', 'NotMentioned', 'NotMentioned', 'Entailment', 'NotMentioned', 'Entailment', 'Entailment', 'NotMentioned', 'Entailment', 'Contradiction', 'NotMentioned', 'NotMentioned', 'NotMentioned', 'Entailment', 'NotMentioned', 'Entailment', 'Entailment', 'NotMentioned', 'NotMentioned', 'Entailment', 'Entailment', 'NotMentioned', 'Entailment', 'Entailment']\n"
     ]
    }
   ],
   "source": [
    "print(responses)"
   ]
  },
  {
   "cell_type": "code",
   "execution_count": 5,
   "metadata": {},
   "outputs": [
    {
     "name": "stdout",
     "output_type": "stream",
     "text": [
      "[[622  10 336]\n",
      " [ 22   5 193]\n",
      " [121  27 755]]\n"
     ]
    }
   ],
   "source": [
    "### Get confusion matrix\n",
    "\n",
    "from sklearn.metrics import confusion_matrix\n",
    "\n",
    "labels_ = []\n",
    "preds_ = []\n",
    "for i in range(len(labels)):\n",
    "    if responses[i] in label2id:\n",
    "        labels_.append(labels[i])\n",
    "        preds_.append(label2id[responses[i]])\n",
    "\n",
    "conf_mat = confusion_matrix(labels_, preds_)\n",
    "print(conf_mat)"
   ]
  },
  {
   "cell_type": "code",
   "execution_count": 6,
   "metadata": {},
   "outputs": [],
   "source": [
    "### save the data\n",
    "import pickle\n",
    "\n",
    "save_dir_path = \"../ignored_dir/results/llm_contradiction_detection_on_contract_nli\"\n",
    "if not os.path.exists(save_dir_path):\n",
    "    os.mkdir(save_dir_path)\n",
    "readme_path = os.path.join(save_dir_path, \"README.txt\")\n",
    "with open(readme_path, \"w\") as f:\n",
    "    f.write('{0: \"Entailment\", 1: \"Contradiction\", 2: \"NotMentioned\"}')\n",
    "conf_mat_path = os.path.join(save_dir_path, \"conf_mat.pkl\")\n",
    "conf_mat_filehandler = open(conf_mat_path, 'wb') \n",
    "pickle.dump(conf_mat, conf_mat_filehandler)\n",
    "conf_mat_filehandler.close()"
   ]
  },
  {
   "cell_type": "code",
   "execution_count": 7,
   "metadata": {},
   "outputs": [
    {
     "name": "stdout",
     "output_type": "stream",
     "text": [
      "[[622  10 336]\n",
      " [ 22   5 193]\n",
      " [121  27 755]]\n"
     ]
    }
   ],
   "source": [
    "### Test load\n",
    "\n",
    "import pickle\n",
    "import os\n",
    "\n",
    "save_dir_path = \"../ignored_dir/results/llm_contradiction_detection_on_contract_nli\"\n",
    "conf_mat_path = os.path.join(save_dir_path, \"conf_mat.pkl\")\n",
    "\n",
    "with open(conf_mat_path, 'rb') as f:\n",
    "    conf_mat_loaded = pickle.load(f)\n",
    "print(conf_mat_loaded) "
   ]
  },
  {
   "cell_type": "code",
   "execution_count": 8,
   "metadata": {},
   "outputs": [
    {
     "name": "stdout",
     "output_type": "stream",
     "text": [
      "accuracy: 0.6609277857484457\n"
     ]
    }
   ],
   "source": [
    "accuracy = sum(conf_mat_loaded[i][i] for i in range(3)) / sum(sum(conf_mat_loaded))\n",
    "print(f\"accuracy: {accuracy}\")"
   ]
  },
  {
   "cell_type": "code",
   "execution_count": 9,
   "metadata": {},
   "outputs": [
    {
     "name": "stdout",
     "output_type": "stream",
     "text": [
      "['Entailment', 'Contradiction', 'NotMentioned']\n",
      "\\begin{center}\n",
      "\\begin{tabular}{ |c|c|c|c|c| } \n",
      "\\hline\n",
      "& \\multicolumn{4}{|c|}{pred} \\\\\n",
      "\\hline\n",
      "\\multirow{4}{2em}{true} &  & Entailment & Contradiction & NotMentioned \\\\\n",
      "\\cline{2-5}\n",
      "& Entailment & 622 & 10 & 336\\\\\n",
      "\\cline{2-5}\n",
      "& Contradiction & 22 & 5 & 193\\\\\n",
      "\\cline{2-5}\n",
      "& NotMentioned & 121 & 27 & 755\\\\\n",
      "\\hline\n",
      "\\end{tabular}\n",
      "\\end{center}\n"
     ]
    }
   ],
   "source": [
    "### Make table\n",
    "conf_mat = conf_mat_loaded\n",
    "\n",
    "labels = [id2label[i] for i in range(3)]\n",
    "print(labels)\n",
    "\n",
    "latex_table = \"\"\"\\\\begin{center}\n",
    "\\\\begin{tabular}{ |c|c|c|c|c| } \n",
    "\\hline\n",
    "& \\multicolumn{4}{|c|}{pred} \\\\\\\\\n",
    "\\hline\n",
    "\\multirow{4}{2em}{true} &  & \"\"\" + f\"{labels[0]} & {labels[1]} & {labels[2]} \\\\\\\\\\n\" \\\n",
    "+ \"\"\"\\cline{2-5}\n",
    "& \"\"\" + f\"{labels[0]} & {conf_mat[0][0]} & {conf_mat[0][1]} & {conf_mat[0][2]}\\\\\\\\\\n\" \\\n",
    "+ \"\"\"\\cline{2-5}\n",
    "& \"\"\" + f\"{labels[1]} & {conf_mat[1][0]} & {conf_mat[1][1]} & {conf_mat[1][2]}\\\\\\\\\\n\" \\\n",
    "+ \"\"\"\\cline{2-5}\n",
    "& \"\"\" + f\"{labels[2]} & {conf_mat[2][0]} & {conf_mat[2][1]} & {conf_mat[2][2]}\\\\\\\\\\n\" \\\n",
    "+ \"\"\"\\hline\n",
    "\\end{tabular}\n",
    "\\end{center}\"\"\"\n",
    "\n",
    "print(latex_table)"
   ]
  }
 ],
 "metadata": {
  "kernelspec": {
   "display_name": "virtual-env",
   "language": "python",
   "name": "python3"
  },
  "language_info": {
   "codemirror_mode": {
    "name": "ipython",
    "version": 3
   },
   "file_extension": ".py",
   "mimetype": "text/x-python",
   "name": "python",
   "nbconvert_exporter": "python",
   "pygments_lexer": "ipython3",
   "version": "3.10.14"
  }
 },
 "nbformat": 4,
 "nbformat_minor": 2
}
