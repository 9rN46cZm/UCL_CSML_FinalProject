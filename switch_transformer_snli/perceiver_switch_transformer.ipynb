{
 "cells": [
  {
   "cell_type": "code",
   "execution_count": null,
   "metadata": {},
   "outputs": [],
   "source": [
    "### This script attempts to convert the an empty perceiver of the same architecture \n",
    "### as the trained perceiver on snli into switch format\n",
    "### it needs to achieve the following criterias\n",
    "###  1) it needs to have the same normal expert normal expert pattern as the switch transformer from google"
   ]
  },
  {
   "cell_type": "code",
   "execution_count": null,
   "metadata": {},
   "outputs": [],
   "source": [
    "import datasets\n",
    "from transformers import PerceiverTokenizer"
   ]
  },
  {
   "cell_type": "code",
   "execution_count": null,
   "metadata": {},
   "outputs": [],
   "source": [
    "### load snli dataset\n",
    "\n",
    "id2label = {0: \"entailment\", 1: \"neutral\", 2: \"contradiction\"}\n",
    "label2id = {v: k for k, v in id2label.items()}\n",
    "\n",
    "snli_dataset = datasets.load_dataset(\"stanfordnlp/snli\")\n",
    "\n",
    "for mode in ['train', 'validation', 'test']:\n",
    "    snli_dataset[mode] = snli_dataset[mode].filter(lambda e: e['label'] != -1)"
   ]
  },
  {
   "cell_type": "code",
   "execution_count": null,
   "metadata": {},
   "outputs": [],
   "source": [
    "### identify which perceiver achieved 90%\n",
    "\n",
    "perceiver_tokenizer = PerceiverTokenizer.from_pretrained('deepmind/language-perceiver')"
   ]
  }
 ],
 "metadata": {
  "language_info": {
   "name": "python"
  }
 },
 "nbformat": 4,
 "nbformat_minor": 2
}
