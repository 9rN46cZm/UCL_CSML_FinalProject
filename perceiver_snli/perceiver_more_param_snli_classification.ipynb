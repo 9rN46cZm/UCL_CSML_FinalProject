{
 "cells": [
  {
   "cell_type": "code",
   "execution_count": 26,
   "metadata": {},
   "outputs": [],
   "source": [
    "from datasets import load_dataset, DatasetDict, Dataset\n",
    "import json\n",
    "from transformers import PerceiverTokenizer, PerceiverModel, PerceiverConfig, PerceiverPreTrainedModel, PerceiverForSequenceClassification, TrainingArguments, Trainer, \\\n",
    "    DataCollatorWithPadding, PerceiverForMaskedLM\n",
    "import re\n",
    "import os\n",
    "from tqdm import tqdm\n",
    "import torch\n",
    "import datasets"
   ]
  },
  {
   "cell_type": "code",
   "execution_count": 27,
   "metadata": {},
   "outputs": [],
   "source": [
    "ROOT_PATH = \"..\""
   ]
  },
  {
   "cell_type": "markdown",
   "metadata": {},
   "source": [
    "### Load Dataset"
   ]
  },
  {
   "cell_type": "code",
   "execution_count": 28,
   "metadata": {},
   "outputs": [],
   "source": [
    "id2label = {0: \"entailment\", 1: \"neutral\", 2: \"contradiction\"}\n",
    "label2id = {v: k for k, v in id2label.items()}"
   ]
  },
  {
   "cell_type": "code",
   "execution_count": 29,
   "metadata": {},
   "outputs": [],
   "source": [
    "snli_dataset = datasets.load_dataset(\"stanfordnlp/snli\")"
   ]
  },
  {
   "cell_type": "code",
   "execution_count": 30,
   "metadata": {},
   "outputs": [],
   "source": [
    "for mode in ['train', 'validation', 'test']:\n",
    "    snli_dataset[mode] = snli_dataset[mode].rename_column('label', 'labels').filter(lambda e: e['labels'] != -1)"
   ]
  },
  {
   "cell_type": "code",
   "execution_count": 31,
   "metadata": {},
   "outputs": [],
   "source": [
    "perceiver_tokenizer = PerceiverTokenizer.from_pretrained('deepmind/language-perceiver')"
   ]
  },
  {
   "cell_type": "code",
   "execution_count": 32,
   "metadata": {},
   "outputs": [],
   "source": [
    "def process_snli_dataset(element):\n",
    "    return perceiver_tokenizer(element['premise'], element['hypothesis'], truncation=True)"
   ]
  },
  {
   "cell_type": "code",
   "execution_count": 33,
   "metadata": {},
   "outputs": [],
   "source": [
    "snli_dataset_processed = snli_dataset.map(process_snli_dataset, batched=True)"
   ]
  },
  {
   "cell_type": "code",
   "execution_count": 34,
   "metadata": {},
   "outputs": [
    {
     "name": "stdout",
     "output_type": "stream",
     "text": [
      "max length of tokenized dataset element is: 559\n"
     ]
    }
   ],
   "source": [
    "# for loop to figure out how long the tokenized sentences are\n",
    "max_len = 559\n",
    "if max_len is None:\n",
    "    record = []\n",
    "    for mode in ['train', 'validation', 'test']:\n",
    "        mode_dataset = snli_dataset_processed[mode]\n",
    "        for i in tqdm(range(len(mode_dataset)), total=len(mode_dataset)):\n",
    "            record.append(len(mode_dataset[i]['input_ids']))\n",
    "    max_len = max(record)\n",
    "print(f\"max length of tokenized dataset element is: {max_len}\")"
   ]
  },
  {
   "cell_type": "markdown",
   "metadata": {},
   "source": [
    "### Try different strategies of initiating Perceiver"
   ]
  },
  {
   "cell_type": "code",
   "execution_count": 35,
   "metadata": {},
   "outputs": [
    {
     "name": "stderr",
     "output_type": "stream",
     "text": [
      "Some weights of PerceiverForSequenceClassification were not initialized from the model checkpoint at deepmind/language-perceiver and are newly initialized: ['perceiver.decoder.decoder.decoding_cross_attention.attention.output.dense.bias', 'perceiver.decoder.decoder.decoding_cross_attention.attention.output.dense.weight', 'perceiver.decoder.decoder.decoding_cross_attention.attention.self.key.bias', 'perceiver.decoder.decoder.decoding_cross_attention.attention.self.key.weight', 'perceiver.decoder.decoder.decoding_cross_attention.attention.self.layernorm1.bias', 'perceiver.decoder.decoder.decoding_cross_attention.attention.self.layernorm1.weight', 'perceiver.decoder.decoder.decoding_cross_attention.attention.self.layernorm2.bias', 'perceiver.decoder.decoder.decoding_cross_attention.attention.self.layernorm2.weight', 'perceiver.decoder.decoder.decoding_cross_attention.attention.self.query.bias', 'perceiver.decoder.decoder.decoding_cross_attention.attention.self.query.weight', 'perceiver.decoder.decoder.decoding_cross_attention.attention.self.value.bias', 'perceiver.decoder.decoder.decoding_cross_attention.attention.self.value.weight', 'perceiver.decoder.decoder.decoding_cross_attention.layernorm.bias', 'perceiver.decoder.decoder.decoding_cross_attention.layernorm.weight', 'perceiver.decoder.decoder.decoding_cross_attention.mlp.dense1.bias', 'perceiver.decoder.decoder.decoding_cross_attention.mlp.dense1.weight', 'perceiver.decoder.decoder.decoding_cross_attention.mlp.dense2.bias', 'perceiver.decoder.decoder.decoding_cross_attention.mlp.dense2.weight', 'perceiver.decoder.decoder.final_layer.bias', 'perceiver.decoder.decoder.final_layer.weight', 'perceiver.decoder.decoder.output_position_encodings.position_embeddings']\n",
      "You should probably TRAIN this model on a down-stream task to be able to use it for predictions and inference.\n"
     ]
    }
   ],
   "source": [
    "### Strategy 1\n",
    "\n",
    "perceiver_config_1 = PerceiverConfig.from_pretrained('deepmind/language-perceiver', num_labels=3)\n",
    "perceiver_model_1 = PerceiverForSequenceClassification.from_pretrained('deepmind/language-perceiver', config=perceiver_config_1)"
   ]
  },
  {
   "cell_type": "code",
   "execution_count": 36,
   "metadata": {},
   "outputs": [
    {
     "name": "stderr",
     "output_type": "stream",
     "text": [
      "Some weights of PerceiverForSequenceClassification were not initialized from the model checkpoint at deepmind/language-perceiver and are newly initialized: ['perceiver.decoder.decoder.decoding_cross_attention.attention.output.dense.bias', 'perceiver.decoder.decoder.decoding_cross_attention.attention.output.dense.weight', 'perceiver.decoder.decoder.decoding_cross_attention.attention.self.key.bias', 'perceiver.decoder.decoder.decoding_cross_attention.attention.self.key.weight', 'perceiver.decoder.decoder.decoding_cross_attention.attention.self.layernorm1.bias', 'perceiver.decoder.decoder.decoding_cross_attention.attention.self.layernorm1.weight', 'perceiver.decoder.decoder.decoding_cross_attention.attention.self.layernorm2.bias', 'perceiver.decoder.decoder.decoding_cross_attention.attention.self.layernorm2.weight', 'perceiver.decoder.decoder.decoding_cross_attention.attention.self.query.bias', 'perceiver.decoder.decoder.decoding_cross_attention.attention.self.query.weight', 'perceiver.decoder.decoder.decoding_cross_attention.attention.self.value.bias', 'perceiver.decoder.decoder.decoding_cross_attention.attention.self.value.weight', 'perceiver.decoder.decoder.decoding_cross_attention.layernorm.bias', 'perceiver.decoder.decoder.decoding_cross_attention.layernorm.weight', 'perceiver.decoder.decoder.decoding_cross_attention.mlp.dense1.bias', 'perceiver.decoder.decoder.decoding_cross_attention.mlp.dense1.weight', 'perceiver.decoder.decoder.decoding_cross_attention.mlp.dense2.bias', 'perceiver.decoder.decoder.decoding_cross_attention.mlp.dense2.weight', 'perceiver.decoder.decoder.final_layer.bias', 'perceiver.decoder.decoder.final_layer.weight', 'perceiver.decoder.decoder.output_position_encodings.position_embeddings']\n",
      "You should probably TRAIN this model on a down-stream task to be able to use it for predictions and inference.\n"
     ]
    }
   ],
   "source": [
    "### Strategy 2\n",
    "\n",
    "### input_preprocessor, embeddings, encoder\n",
    "\n",
    "perceiver_config_2 = PerceiverConfig.from_pretrained('deepmind/language-perceiver', num_labels=3)\n",
    "# perceiver_model_2_ = PerceiverForSequenceClassification(config=perceiver_config_2)\n",
    "perceiver_model_2 = PerceiverForSequenceClassification.from_pretrained('deepmind/language-perceiver', config=perceiver_config_2)\n",
    "perceiver_model_for_masked_lm_2 = PerceiverForMaskedLM.from_pretrained('deepmind/language-perceiver')\n",
    "\n",
    "perceiver_model_2.perceiver.input_preprocessor = perceiver_model_for_masked_lm_2.perceiver.input_preprocessor\n",
    "perceiver_model_2.perceiver.embeddings = perceiver_model_for_masked_lm_2.perceiver.embeddings\n",
    "perceiver_model_2.perceiver.encoder = perceiver_model_for_masked_lm_2.perceiver.encoder\n"
   ]
  },
  {
   "cell_type": "code",
   "execution_count": 37,
   "metadata": {},
   "outputs": [],
   "source": [
    "perceiver_config = PerceiverConfig(num_labels=3, d_latents=5120)"
   ]
  },
  {
   "cell_type": "code",
   "execution_count": 38,
   "metadata": {},
   "outputs": [],
   "source": [
    "#checkpoint_path = os.path.join(ROOT_PATH, \"ignored_dir/training_outputs/perceiver_contract_nli/run_5/checkpoint-309\")\n",
    "# perceiver_model = PerceiverForSequenceClassification.from_pretrained(checkpoint_path, config=perceiver_config, ignore_mismatched_sizes=True)\n",
    "perceiver_model = PerceiverForSequenceClassification(config=perceiver_config)\n",
    "perceiver_model_for_masked_lm = PerceiverForMaskedLM.from_pretrained('deepmind/language-perceiver')\n",
    "# perceiver_model.perceiver = perceiver_model_for_masked_lm.perceiver\n",
    "# perceiver_model = PerceiverForSequenceClassification.from_pretrained(\"deepmind/language-perceiver\", config=perceiver_config, offload_state_dict=True, torch_dtype=torch.float16, ignore_mismatched_sizes=True)"
   ]
  },
  {
   "cell_type": "code",
   "execution_count": 39,
   "metadata": {},
   "outputs": [],
   "source": [
    "perceiver_model.perceiver.input_preprocessor = perceiver_model_for_masked_lm.perceiver.input_preprocessor\n",
    "perceiver_model.perceiver.embeddings = perceiver_model_for_masked_lm.perceiver.embeddings\n",
    "perceiver_model.perceiver.encoder = perceiver_model_for_masked_lm.perceiver.encoder"
   ]
  },
  {
   "cell_type": "code",
   "execution_count": 40,
   "metadata": {},
   "outputs": [
    {
     "name": "stdout",
     "output_type": "stream",
     "text": [
      "PerceiverModel(\n",
      "  (input_preprocessor): PerceiverTextPreprocessor(\n",
      "    (embeddings): Embedding(262, 768)\n",
      "    (position_embeddings): Embedding(2048, 768)\n",
      "  )\n",
      "  (embeddings): PerceiverEmbeddings()\n",
      "  (encoder): PerceiverEncoder(\n",
      "    (cross_attention): PerceiverLayer(\n",
      "      (attention): PerceiverAttention(\n",
      "        (self): PerceiverSelfAttention(\n",
      "          (layernorm1): LayerNorm((1280,), eps=1e-05, elementwise_affine=True)\n",
      "          (layernorm2): LayerNorm((768,), eps=1e-05, elementwise_affine=True)\n",
      "          (query): Linear(in_features=1280, out_features=256, bias=True)\n",
      "          (key): Linear(in_features=768, out_features=256, bias=True)\n",
      "          (value): Linear(in_features=768, out_features=1280, bias=True)\n",
      "          (dropout): Dropout(p=0.1, inplace=False)\n",
      "        )\n",
      "        (output): PerceiverSelfOutput(\n",
      "          (dense): Linear(in_features=1280, out_features=1280, bias=True)\n",
      "        )\n",
      "      )\n",
      "      (layernorm): LayerNorm((1280,), eps=1e-05, elementwise_affine=True)\n",
      "      (mlp): PerceiverMLP(\n",
      "        (dense1): Linear(in_features=1280, out_features=1280, bias=True)\n",
      "        (intermediate_act_fn): GELUActivation()\n",
      "        (dense2): Linear(in_features=1280, out_features=1280, bias=True)\n",
      "      )\n",
      "    )\n",
      "    (self_attends): ModuleList(\n",
      "      (0-25): 26 x PerceiverLayer(\n",
      "        (attention): PerceiverAttention(\n",
      "          (self): PerceiverSelfAttention(\n",
      "            (layernorm1): LayerNorm((1280,), eps=1e-05, elementwise_affine=True)\n",
      "            (layernorm2): Identity()\n",
      "            (query): Linear(in_features=1280, out_features=256, bias=True)\n",
      "            (key): Linear(in_features=1280, out_features=256, bias=True)\n",
      "            (value): Linear(in_features=1280, out_features=1280, bias=True)\n",
      "            (dropout): Dropout(p=0.1, inplace=False)\n",
      "          )\n",
      "          (output): PerceiverSelfOutput(\n",
      "            (dense): Linear(in_features=1280, out_features=1280, bias=True)\n",
      "          )\n",
      "        )\n",
      "        (layernorm): LayerNorm((1280,), eps=1e-05, elementwise_affine=True)\n",
      "        (mlp): PerceiverMLP(\n",
      "          (dense1): Linear(in_features=1280, out_features=1280, bias=True)\n",
      "          (intermediate_act_fn): GELUActivation()\n",
      "          (dense2): Linear(in_features=1280, out_features=1280, bias=True)\n",
      "        )\n",
      "      )\n",
      "    )\n",
      "  )\n",
      "  (decoder): PerceiverClassificationDecoder(\n",
      "    (decoder): PerceiverBasicDecoder(\n",
      "      (output_position_encodings): PerceiverTrainablePositionEncoding()\n",
      "      (positions_projection): Identity()\n",
      "      (decoding_cross_attention): PerceiverLayer(\n",
      "        (attention): PerceiverAttention(\n",
      "          (self): PerceiverSelfAttention(\n",
      "            (layernorm1): LayerNorm((5120,), eps=1e-05, elementwise_affine=True)\n",
      "            (layernorm2): LayerNorm((5120,), eps=1e-05, elementwise_affine=True)\n",
      "            (query): Linear(in_features=5120, out_features=5120, bias=True)\n",
      "            (key): Linear(in_features=5120, out_features=5120, bias=True)\n",
      "            (value): Linear(in_features=5120, out_features=5120, bias=True)\n",
      "            (dropout): Dropout(p=0.1, inplace=False)\n",
      "          )\n",
      "          (output): PerceiverSelfOutput(\n",
      "            (dense): Linear(in_features=5120, out_features=5120, bias=True)\n",
      "          )\n",
      "        )\n",
      "        (layernorm): LayerNorm((5120,), eps=1e-05, elementwise_affine=True)\n",
      "        (mlp): PerceiverMLP(\n",
      "          (dense1): Linear(in_features=5120, out_features=5120, bias=True)\n",
      "          (intermediate_act_fn): GELUActivation()\n",
      "          (dense2): Linear(in_features=5120, out_features=5120, bias=True)\n",
      "        )\n",
      "      )\n",
      "      (final_layer): Linear(in_features=5120, out_features=3, bias=True)\n",
      "    )\n",
      "  )\n",
      ")\n"
     ]
    }
   ],
   "source": [
    "print(perceiver_model.perceiver)"
   ]
  },
  {
   "cell_type": "code",
   "execution_count": 41,
   "metadata": {},
   "outputs": [
    {
     "name": "stdout",
     "output_type": "stream",
     "text": [
      "PerceiverTextPreprocessor(\n",
      "  (embeddings): Embedding(262, 768)\n",
      "  (position_embeddings): Embedding(2048, 768)\n",
      ")\n"
     ]
    }
   ],
   "source": [
    "print(perceiver_model_for_masked_lm.perceiver.input_preprocessor)"
   ]
  },
  {
   "cell_type": "code",
   "execution_count": 42,
   "metadata": {},
   "outputs": [],
   "source": [
    "perceiver_model = perceiver_model_2"
   ]
  },
  {
   "cell_type": "code",
   "execution_count": 43,
   "metadata": {},
   "outputs": [],
   "source": [
    "perceiver_data_collator = DataCollatorWithPadding(tokenizer=perceiver_tokenizer)"
   ]
  },
  {
   "cell_type": "code",
   "execution_count": 44,
   "metadata": {},
   "outputs": [
    {
     "name": "stdout",
     "output_type": "stream",
     "text": [
      "saving to ../ignored_dir/training_outputs/perceiver_snli/run_13\n"
     ]
    }
   ],
   "source": [
    "ignored_dir_path = os.path.join(ROOT_PATH, \"ignored_dir\")\n",
    "if not os.path.exists(ignored_dir_path):\n",
    "    os.mkdir(ignored_dir_path)\n",
    "training_outputs_path = os.path.join(ignored_dir_path, \"training_outputs\")\n",
    "if not os.path.exists(training_outputs_path):\n",
    "    os.mkdir(training_outputs_path)\n",
    "output_path = os.path.join(training_outputs_path, \"perceiver_snli\")\n",
    "if not os.path.exists(output_path):\n",
    "    os.mkdir(output_path)\n",
    "output_path_content = os.listdir(output_path)\n",
    "pattern = \"^run_([0-9]+)\"\n",
    "output_path_legal_content = [e for e in output_path_content if re.match(pattern, e)]\n",
    "run_output_path = os.path.join(output_path, f\"run_{len(output_path_legal_content) + 1}\")\n",
    "print(f\"saving to {run_output_path}\")\n",
    "perceiver_training_arguments = TrainingArguments(\n",
    "    run_output_path,\n",
    "    do_train=True,\n",
    "    do_eval=True,\n",
    "    num_train_epochs=20,\n",
    "    learning_rate = 1e-6,\n",
    "    gradient_accumulation_steps=8,\n",
    "    per_device_train_batch_size=28,\n",
    "    per_device_eval_batch_size=28,\n",
    "    fp16=True,\n",
    "    eval_strategy=\"epoch\",\n",
    "    save_strategy=\"epoch\",\n",
    "    logging_strategy=\"epoch\",\n",
    "    load_best_model_at_end=True,\n",
    ")"
   ]
  },
  {
   "cell_type": "code",
   "execution_count": 45,
   "metadata": {},
   "outputs": [],
   "source": [
    "import evaluate\n",
    "\n",
    "accuracy = evaluate.load(\"accuracy\")"
   ]
  },
  {
   "cell_type": "code",
   "execution_count": 46,
   "metadata": {},
   "outputs": [],
   "source": [
    "import numpy as np\n",
    "\n",
    "def perceiver_compute_metrics(eval_pred):\n",
    "    predictions, labels = eval_pred\n",
    "    predictions = np.argmax(predictions, axis=1)\n",
    "    return accuracy.compute(predictions=predictions, references=labels)"
   ]
  },
  {
   "cell_type": "code",
   "execution_count": 47,
   "metadata": {},
   "outputs": [
    {
     "name": "stderr",
     "output_type": "stream",
     "text": [
      "/home/yan_xu_uk_qbe_com/scc_yan/virtual-env/lib/python3.10/site-packages/accelerate/accelerator.py:488: FutureWarning: `torch.cuda.amp.GradScaler(args...)` is deprecated. Please use `torch.amp.GradScaler('cuda', args...)` instead.\n",
      "  self.scaler = torch.cuda.amp.GradScaler(**kwargs)\n"
     ]
    }
   ],
   "source": [
    "perceiver_trainer = Trainer(\n",
    "    model=perceiver_model,\n",
    "    args=perceiver_training_arguments,\n",
    "    train_dataset=snli_dataset_processed['train'],\n",
    "    eval_dataset=snli_dataset_processed[\"validation\"],\n",
    "    tokenizer=perceiver_tokenizer,\n",
    "    data_collator=perceiver_data_collator,\n",
    "    compute_metrics=perceiver_compute_metrics,\n",
    ")"
   ]
  },
  {
   "cell_type": "code",
   "execution_count": 48,
   "metadata": {},
   "outputs": [
    {
     "name": "stderr",
     "output_type": "stream",
     "text": [
      "/home/yan_xu_uk_qbe_com/scc_yan/virtual-env/lib/python3.10/site-packages/torch/nn/parallel/parallel_apply.py:79: FutureWarning: `torch.cuda.amp.autocast(args...)` is deprecated. Please use `torch.amp.autocast('cuda', args...)` instead.\n",
      "  with torch.cuda.device(device), torch.cuda.stream(stream), autocast(enabled=autocast_enabled):\n",
      "/home/yan_xu_uk_qbe_com/scc_yan/virtual-env/lib/python3.10/site-packages/torch/nn/parallel/_functions.py:68: UserWarning: Was asked to gather along dimension 0, but all input tensors were scalars; will instead unsqueeze and return a vector.\n",
      "  warnings.warn('Was asked to gather along dimension 0, but all '\n"
     ]
    },
    {
     "data": {
      "text/html": [
       "\n",
       "    <div>\n",
       "      \n",
       "      <progress value='176' max='176' style='width:300px; height:20px; vertical-align: middle;'></progress>\n",
       "      [176/176 01:40]\n",
       "    </div>\n",
       "    "
      ],
      "text/plain": [
       "<IPython.core.display.HTML object>"
      ]
     },
     "metadata": {},
     "output_type": "display_data"
    }
   ],
   "source": [
    "ret = perceiver_trainer.evaluate()"
   ]
  },
  {
   "cell_type": "code",
   "execution_count": 49,
   "metadata": {},
   "outputs": [
    {
     "name": "stdout",
     "output_type": "stream",
     "text": [
      "{'eval_loss': 1.1114150285720825, 'eval_accuracy': 0.33448486080065026, 'eval_runtime': 101.0361, 'eval_samples_per_second': 97.411, 'eval_steps_per_second': 1.742}\n"
     ]
    }
   ],
   "source": [
    "print(ret)"
   ]
  },
  {
   "cell_type": "code",
   "execution_count": 50,
   "metadata": {},
   "outputs": [
    {
     "name": "stderr",
     "output_type": "stream",
     "text": [
      "/home/yan_xu_uk_qbe_com/scc_yan/virtual-env/lib/python3.10/site-packages/torch/nn/parallel/parallel_apply.py:79: FutureWarning: `torch.cuda.amp.autocast(args...)` is deprecated. Please use `torch.amp.autocast('cuda', args...)` instead.\n",
      "  with torch.cuda.device(device), torch.cuda.stream(stream), autocast(enabled=autocast_enabled):\n",
      "/home/yan_xu_uk_qbe_com/scc_yan/virtual-env/lib/python3.10/site-packages/torch/nn/parallel/_functions.py:68: UserWarning: Was asked to gather along dimension 0, but all input tensors were scalars; will instead unsqueeze and return a vector.\n",
      "  warnings.warn('Was asked to gather along dimension 0, but all '\n",
      "Could not estimate the number of tokens of the input, floating-point operations will not be computed\n"
     ]
    },
    {
     "data": {
      "text/html": [
       "\n",
       "    <div>\n",
       "      \n",
       "      <progress value='803' max='24520' style='width:300px; height:20px; vertical-align: middle;'></progress>\n",
       "      [  803/24520 2:44:06 < 80:58:58, 0.08 it/s, Epoch 0.65/20]\n",
       "    </div>\n",
       "    <table border=\"1\" class=\"dataframe\">\n",
       "  <thead>\n",
       " <tr style=\"text-align: left;\">\n",
       "      <th>Epoch</th>\n",
       "      <th>Training Loss</th>\n",
       "      <th>Validation Loss</th>\n",
       "    </tr>\n",
       "  </thead>\n",
       "  <tbody>\n",
       "  </tbody>\n",
       "</table><p>"
      ],
      "text/plain": [
       "<IPython.core.display.HTML object>"
      ]
     },
     "metadata": {},
     "output_type": "display_data"
    }
   ],
   "source": [
    "perceiver_trainer.train()"
   ]
  }
 ],
 "metadata": {
  "kernelspec": {
   "display_name": "virtual-env",
   "language": "python",
   "name": "python3"
  },
  "language_info": {
   "codemirror_mode": {
    "name": "ipython",
    "version": 3
   },
   "file_extension": ".py",
   "mimetype": "text/x-python",
   "name": "python",
   "nbconvert_exporter": "python",
   "pygments_lexer": "ipython3",
   "version": "3.10.14"
  }
 },
 "nbformat": 4,
 "nbformat_minor": 2
}
